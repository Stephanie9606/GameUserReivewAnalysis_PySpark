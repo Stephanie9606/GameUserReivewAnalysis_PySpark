{
 "cells": [
  {
   "cell_type": "code",
   "execution_count": 260,
   "metadata": {},
   "outputs": [],
   "source": [
    "#!pip3 install pandas\n",
    "#!pip3 install mlflow\n",
    "#!pip3 install gensim\n",
    "#!pip install matplotlib\n",
    "#!pip3 install tensorflow\n",
    "#!pip3 install pyarrow\n",
    "#!pip3 install nltk\n",
    "#!pip3 install gensim\n",
    "#!pip3 install keras"
   ]
  },
  {
   "cell_type": "code",
   "execution_count": 261,
   "metadata": {},
   "outputs": [
    {
     "name": "stdout",
     "output_type": "stream",
     "text": [
      "3.8.5\n"
     ]
    }
   ],
   "source": [
    "from platform import python_version\n",
    "print(python_version())"
   ]
  },
  {
   "cell_type": "code",
   "execution_count": 262,
   "metadata": {},
   "outputs": [
    {
     "data": {
      "text/plain": [
       "['/Users/stephanie/gensim-data',\n",
       " '/opt/anaconda3/lib/python3.8/site-packages/git/ext/gitdb',\n",
       " '/private/var/folders/mg/yyqrx45x1m3cw912qvth8mp00000gn/T/spark-9bd7fd41-9fea-40b5-8d09-49ef0c40c23e/userFiles-07c56851-5a27-461f-9a31-5db898e56af9',\n",
       " '/Users/stephanie',\n",
       " '/usr/local/Cellar/apache-spark/3.2.0/libexec/python/lib/py4j-0.10.9.2-src.zip',\n",
       " '/usr/local/Cellar/apache-spark/3.2.0/libexec/python',\n",
       " '/Users/stephanie',\n",
       " '/opt/anaconda3/lib/python38.zip',\n",
       " '/opt/anaconda3/lib/python3.8',\n",
       " '/opt/anaconda3/lib/python3.8/lib-dynload',\n",
       " '',\n",
       " '/opt/anaconda3/lib/python3.8/site-packages',\n",
       " '/opt/anaconda3/lib/python3.8/site-packages/aeosa',\n",
       " '/opt/anaconda3/lib/python3.8/site-packages/IPython/extensions',\n",
       " '/Users/stephanie/.ipython',\n",
       " '/opt/anaconda3/lib/python3.8/site-packages/gitdb/ext/smmap']"
      ]
     },
     "execution_count": 262,
     "metadata": {},
     "output_type": "execute_result"
    }
   ],
   "source": [
    "import sys\n",
    "sys.executable\n",
    "sys.path"
   ]
  },
  {
   "cell_type": "code",
   "execution_count": 263,
   "metadata": {},
   "outputs": [],
   "source": [
    "# Final Project"
   ]
  },
  {
   "cell_type": "code",
   "execution_count": 264,
   "metadata": {},
   "outputs": [],
   "source": [
    "# read from local metacritic_game.csv\n",
    "filePath = \"/Users/stephanie/Documents/Csc_696_High-Performance_Computing/FinalProject/data/metacritic_game.csv\"\n",
    "gameDF = spark.read.csv(filePath, header=\"true\", inferSchema=\"true\", multiLine=\"true\", escape='\"')"
   ]
  },
  {
   "cell_type": "code",
   "execution_count": 265,
   "metadata": {},
   "outputs": [],
   "source": [
    "import pandas as pd\n",
    "displayDF = pd.read_csv(\"/Users/stephanie/Documents/Csc_696_High-Performance_Computing/FinalProject/data/metacritic_game.csv\")"
   ]
  },
  {
   "cell_type": "code",
   "execution_count": 266,
   "metadata": {
    "scrolled": true
   },
   "outputs": [
    {
     "data": {
      "text/html": [
       "<div>\n",
       "<style scoped>\n",
       "    .dataframe tbody tr th:only-of-type {\n",
       "        vertical-align: middle;\n",
       "    }\n",
       "\n",
       "    .dataframe tbody tr th {\n",
       "        vertical-align: top;\n",
       "    }\n",
       "\n",
       "    .dataframe thead th {\n",
       "        text-align: right;\n",
       "    }\n",
       "</style>\n",
       "<table border=\"1\" class=\"dataframe\">\n",
       "  <thead>\n",
       "    <tr style=\"text-align: right;\">\n",
       "      <th></th>\n",
       "      <th>Title</th>\n",
       "      <th>Year</th>\n",
       "      <th>Publisher</th>\n",
       "      <th>Category</th>\n",
       "      <th>Genre</th>\n",
       "      <th>Platfform</th>\n",
       "      <th>Metascore</th>\n",
       "      <th>Avg_Userscore</th>\n",
       "      <th>No_Players</th>\n",
       "      <th>NA_Sales</th>\n",
       "      <th>EU_Sales</th>\n",
       "      <th>JP_Sales</th>\n",
       "      <th>Other_Sales</th>\n",
       "      <th>Global_Sales</th>\n",
       "      <th>Critic_Score</th>\n",
       "      <th>Critic_Count</th>\n",
       "      <th>User_Count</th>\n",
       "      <th>Rating</th>\n",
       "      <th>Userscore</th>\n",
       "      <th>Comment</th>\n",
       "    </tr>\n",
       "  </thead>\n",
       "  <tbody>\n",
       "    <tr>\n",
       "      <th>0</th>\n",
       "      <td>Grand Theft Auto IV</td>\n",
       "      <td>2008</td>\n",
       "      <td>RockstarNorth</td>\n",
       "      <td>Action</td>\n",
       "      <td>Action Adventure;Modern;Modern;Open-World</td>\n",
       "      <td>PlayStation3</td>\n",
       "      <td>98</td>\n",
       "      <td>7.5</td>\n",
       "      <td>1 Player</td>\n",
       "      <td>4.77</td>\n",
       "      <td>3.70</td>\n",
       "      <td>0.44</td>\n",
       "      <td>1.61</td>\n",
       "      <td>10.51</td>\n",
       "      <td>98.0</td>\n",
       "      <td>64.0</td>\n",
       "      <td>2849.0</td>\n",
       "      <td>M</td>\n",
       "      <td>10</td>\n",
       "      <td>After playing GTA III, Vice City and San Andre...</td>\n",
       "    </tr>\n",
       "    <tr>\n",
       "      <th>1</th>\n",
       "      <td>Grand Theft Auto IV</td>\n",
       "      <td>2008</td>\n",
       "      <td>RockstarNorth</td>\n",
       "      <td>Action</td>\n",
       "      <td>Action Adventure;Modern;Modern;Open-World</td>\n",
       "      <td>PlayStation3</td>\n",
       "      <td>98</td>\n",
       "      <td>7.5</td>\n",
       "      <td>1 Player</td>\n",
       "      <td>4.77</td>\n",
       "      <td>3.70</td>\n",
       "      <td>0.44</td>\n",
       "      <td>1.61</td>\n",
       "      <td>10.51</td>\n",
       "      <td>98.0</td>\n",
       "      <td>64.0</td>\n",
       "      <td>2849.0</td>\n",
       "      <td>M</td>\n",
       "      <td>6</td>\n",
       "      <td>What happened?!? How did this go so wrong??? I...</td>\n",
       "    </tr>\n",
       "    <tr>\n",
       "      <th>2</th>\n",
       "      <td>Grand Theft Auto IV</td>\n",
       "      <td>2008</td>\n",
       "      <td>RockstarNorth</td>\n",
       "      <td>Action</td>\n",
       "      <td>Action Adventure;Modern;Modern;Open-World</td>\n",
       "      <td>PlayStation3</td>\n",
       "      <td>98</td>\n",
       "      <td>7.5</td>\n",
       "      <td>1 Player</td>\n",
       "      <td>4.77</td>\n",
       "      <td>3.70</td>\n",
       "      <td>0.44</td>\n",
       "      <td>1.61</td>\n",
       "      <td>10.51</td>\n",
       "      <td>98.0</td>\n",
       "      <td>64.0</td>\n",
       "      <td>2849.0</td>\n",
       "      <td>M</td>\n",
       "      <td>2</td>\n",
       "      <td>Over hyped. A plain game pagued with framerate...</td>\n",
       "    </tr>\n",
       "    <tr>\n",
       "      <th>3</th>\n",
       "      <td>Grand Theft Auto IV</td>\n",
       "      <td>2008</td>\n",
       "      <td>RockstarNorth</td>\n",
       "      <td>Action</td>\n",
       "      <td>Action Adventure;Modern;Modern;Open-World</td>\n",
       "      <td>PlayStation3</td>\n",
       "      <td>98</td>\n",
       "      <td>7.5</td>\n",
       "      <td>1 Player</td>\n",
       "      <td>4.77</td>\n",
       "      <td>3.70</td>\n",
       "      <td>0.44</td>\n",
       "      <td>1.61</td>\n",
       "      <td>10.51</td>\n",
       "      <td>98.0</td>\n",
       "      <td>64.0</td>\n",
       "      <td>2849.0</td>\n",
       "      <td>M</td>\n",
       "      <td>1</td>\n",
       "      <td>If you enjoyed previous GTAs, avoid this game ...</td>\n",
       "    </tr>\n",
       "    <tr>\n",
       "      <th>4</th>\n",
       "      <td>Grand Theft Auto IV</td>\n",
       "      <td>2008</td>\n",
       "      <td>RockstarNorth</td>\n",
       "      <td>Action</td>\n",
       "      <td>Action Adventure;Modern;Modern;Open-World</td>\n",
       "      <td>PlayStation3</td>\n",
       "      <td>98</td>\n",
       "      <td>7.5</td>\n",
       "      <td>1 Player</td>\n",
       "      <td>4.77</td>\n",
       "      <td>3.70</td>\n",
       "      <td>0.44</td>\n",
       "      <td>1.61</td>\n",
       "      <td>10.51</td>\n",
       "      <td>98.0</td>\n",
       "      <td>64.0</td>\n",
       "      <td>2849.0</td>\n",
       "      <td>M</td>\n",
       "      <td>9</td>\n",
       "      <td>This review contains spoilers, click expand to...</td>\n",
       "    </tr>\n",
       "    <tr>\n",
       "      <th>...</th>\n",
       "      <td>...</td>\n",
       "      <td>...</td>\n",
       "      <td>...</td>\n",
       "      <td>...</td>\n",
       "      <td>...</td>\n",
       "      <td>...</td>\n",
       "      <td>...</td>\n",
       "      <td>...</td>\n",
       "      <td>...</td>\n",
       "      <td>...</td>\n",
       "      <td>...</td>\n",
       "      <td>...</td>\n",
       "      <td>...</td>\n",
       "      <td>...</td>\n",
       "      <td>...</td>\n",
       "      <td>...</td>\n",
       "      <td>...</td>\n",
       "      <td>...</td>\n",
       "      <td>...</td>\n",
       "      <td>...</td>\n",
       "    </tr>\n",
       "    <tr>\n",
       "      <th>284054</th>\n",
       "      <td>Call of Duty: Modern Warfare 3</td>\n",
       "      <td>2011</td>\n",
       "      <td>InfinityWard,SledgehammerGames</td>\n",
       "      <td>Shooter</td>\n",
       "      <td>Action;Shooter;Shooter;First-Person;Modern;Mod...</td>\n",
       "      <td>PC</td>\n",
       "      <td>78</td>\n",
       "      <td>2.7</td>\n",
       "      <td>not specified</td>\n",
       "      <td>0.41</td>\n",
       "      <td>0.98</td>\n",
       "      <td>0.00</td>\n",
       "      <td>0.32</td>\n",
       "      <td>1.72</td>\n",
       "      <td>78.0</td>\n",
       "      <td>26.0</td>\n",
       "      <td>5670.0</td>\n",
       "      <td>M</td>\n",
       "      <td>9</td>\n",
       "      <td>gran cierre de trilogía, ninguna misión brilla...</td>\n",
       "    </tr>\n",
       "    <tr>\n",
       "      <th>284055</th>\n",
       "      <td>Call of Duty: Modern Warfare 3</td>\n",
       "      <td>2011</td>\n",
       "      <td>InfinityWard,SledgehammerGames</td>\n",
       "      <td>Shooter</td>\n",
       "      <td>Action;Shooter;Shooter;First-Person;Modern;Mod...</td>\n",
       "      <td>PC</td>\n",
       "      <td>78</td>\n",
       "      <td>2.7</td>\n",
       "      <td>not specified</td>\n",
       "      <td>0.41</td>\n",
       "      <td>0.98</td>\n",
       "      <td>0.00</td>\n",
       "      <td>0.32</td>\n",
       "      <td>1.72</td>\n",
       "      <td>78.0</td>\n",
       "      <td>26.0</td>\n",
       "      <td>5670.0</td>\n",
       "      <td>M</td>\n",
       "      <td>8</td>\n",
       "      <td>8.6 - Really good COD, multiplayer maps were w...</td>\n",
       "    </tr>\n",
       "    <tr>\n",
       "      <th>284056</th>\n",
       "      <td>Call of Duty: Modern Warfare 3</td>\n",
       "      <td>2011</td>\n",
       "      <td>InfinityWard,SledgehammerGames</td>\n",
       "      <td>Shooter</td>\n",
       "      <td>Action;Shooter;Shooter;First-Person;Modern;Mod...</td>\n",
       "      <td>PC</td>\n",
       "      <td>78</td>\n",
       "      <td>2.7</td>\n",
       "      <td>not specified</td>\n",
       "      <td>0.41</td>\n",
       "      <td>0.98</td>\n",
       "      <td>0.00</td>\n",
       "      <td>0.32</td>\n",
       "      <td>1.72</td>\n",
       "      <td>78.0</td>\n",
       "      <td>26.0</td>\n",
       "      <td>5670.0</td>\n",
       "      <td>M</td>\n",
       "      <td>7</td>\n",
       "      <td>La  campaña es muy corta teniendo en cuenta lo...</td>\n",
       "    </tr>\n",
       "    <tr>\n",
       "      <th>284057</th>\n",
       "      <td>Call of Duty: Modern Warfare 3</td>\n",
       "      <td>2011</td>\n",
       "      <td>InfinityWard,SledgehammerGames</td>\n",
       "      <td>Shooter</td>\n",
       "      <td>Action;Shooter;Shooter;First-Person;Modern;Mod...</td>\n",
       "      <td>PC</td>\n",
       "      <td>78</td>\n",
       "      <td>2.7</td>\n",
       "      <td>not specified</td>\n",
       "      <td>0.41</td>\n",
       "      <td>0.98</td>\n",
       "      <td>0.00</td>\n",
       "      <td>0.32</td>\n",
       "      <td>1.72</td>\n",
       "      <td>78.0</td>\n",
       "      <td>26.0</td>\n",
       "      <td>5670.0</td>\n",
       "      <td>M</td>\n",
       "      <td>5</td>\n",
       "      <td>A fairly mediocre shooter with a boring story ...</td>\n",
       "    </tr>\n",
       "    <tr>\n",
       "      <th>284058</th>\n",
       "      <td>Call of Duty: Modern Warfare 3</td>\n",
       "      <td>2011</td>\n",
       "      <td>InfinityWard,SledgehammerGames</td>\n",
       "      <td>Shooter</td>\n",
       "      <td>Action;Shooter;Shooter;First-Person;Modern;Mod...</td>\n",
       "      <td>PC</td>\n",
       "      <td>78</td>\n",
       "      <td>2.7</td>\n",
       "      <td>not specified</td>\n",
       "      <td>0.41</td>\n",
       "      <td>0.98</td>\n",
       "      <td>0.00</td>\n",
       "      <td>0.32</td>\n",
       "      <td>1.72</td>\n",
       "      <td>78.0</td>\n",
       "      <td>26.0</td>\n",
       "      <td>5670.0</td>\n",
       "      <td>M</td>\n",
       "      <td>7</td>\n",
       "      <td>It feels like with Modern Warfare 3, hype was ...</td>\n",
       "    </tr>\n",
       "  </tbody>\n",
       "</table>\n",
       "<p>284059 rows × 20 columns</p>\n",
       "</div>"
      ],
      "text/plain": [
       "                                 Title  Year                       Publisher  \\\n",
       "0                  Grand Theft Auto IV  2008                   RockstarNorth   \n",
       "1                  Grand Theft Auto IV  2008                   RockstarNorth   \n",
       "2                  Grand Theft Auto IV  2008                   RockstarNorth   \n",
       "3                  Grand Theft Auto IV  2008                   RockstarNorth   \n",
       "4                  Grand Theft Auto IV  2008                   RockstarNorth   \n",
       "...                                ...   ...                             ...   \n",
       "284054  Call of Duty: Modern Warfare 3  2011  InfinityWard,SledgehammerGames   \n",
       "284055  Call of Duty: Modern Warfare 3  2011  InfinityWard,SledgehammerGames   \n",
       "284056  Call of Duty: Modern Warfare 3  2011  InfinityWard,SledgehammerGames   \n",
       "284057  Call of Duty: Modern Warfare 3  2011  InfinityWard,SledgehammerGames   \n",
       "284058  Call of Duty: Modern Warfare 3  2011  InfinityWard,SledgehammerGames   \n",
       "\n",
       "       Category                                              Genre  \\\n",
       "0        Action          Action Adventure;Modern;Modern;Open-World   \n",
       "1        Action          Action Adventure;Modern;Modern;Open-World   \n",
       "2        Action          Action Adventure;Modern;Modern;Open-World   \n",
       "3        Action          Action Adventure;Modern;Modern;Open-World   \n",
       "4        Action          Action Adventure;Modern;Modern;Open-World   \n",
       "...         ...                                                ...   \n",
       "284054  Shooter  Action;Shooter;Shooter;First-Person;Modern;Mod...   \n",
       "284055  Shooter  Action;Shooter;Shooter;First-Person;Modern;Mod...   \n",
       "284056  Shooter  Action;Shooter;Shooter;First-Person;Modern;Mod...   \n",
       "284057  Shooter  Action;Shooter;Shooter;First-Person;Modern;Mod...   \n",
       "284058  Shooter  Action;Shooter;Shooter;First-Person;Modern;Mod...   \n",
       "\n",
       "           Platfform  Metascore  Avg_Userscore     No_Players  NA_Sales  \\\n",
       "0       PlayStation3         98            7.5       1 Player      4.77   \n",
       "1       PlayStation3         98            7.5       1 Player      4.77   \n",
       "2       PlayStation3         98            7.5       1 Player      4.77   \n",
       "3       PlayStation3         98            7.5       1 Player      4.77   \n",
       "4       PlayStation3         98            7.5       1 Player      4.77   \n",
       "...              ...        ...            ...            ...       ...   \n",
       "284054            PC         78            2.7  not specified      0.41   \n",
       "284055            PC         78            2.7  not specified      0.41   \n",
       "284056            PC         78            2.7  not specified      0.41   \n",
       "284057            PC         78            2.7  not specified      0.41   \n",
       "284058            PC         78            2.7  not specified      0.41   \n",
       "\n",
       "        EU_Sales  JP_Sales  Other_Sales  Global_Sales  Critic_Score  \\\n",
       "0           3.70      0.44         1.61         10.51          98.0   \n",
       "1           3.70      0.44         1.61         10.51          98.0   \n",
       "2           3.70      0.44         1.61         10.51          98.0   \n",
       "3           3.70      0.44         1.61         10.51          98.0   \n",
       "4           3.70      0.44         1.61         10.51          98.0   \n",
       "...          ...       ...          ...           ...           ...   \n",
       "284054      0.98      0.00         0.32          1.72          78.0   \n",
       "284055      0.98      0.00         0.32          1.72          78.0   \n",
       "284056      0.98      0.00         0.32          1.72          78.0   \n",
       "284057      0.98      0.00         0.32          1.72          78.0   \n",
       "284058      0.98      0.00         0.32          1.72          78.0   \n",
       "\n",
       "        Critic_Count  User_Count Rating  Userscore  \\\n",
       "0               64.0      2849.0      M         10   \n",
       "1               64.0      2849.0      M          6   \n",
       "2               64.0      2849.0      M          2   \n",
       "3               64.0      2849.0      M          1   \n",
       "4               64.0      2849.0      M          9   \n",
       "...              ...         ...    ...        ...   \n",
       "284054          26.0      5670.0      M          9   \n",
       "284055          26.0      5670.0      M          8   \n",
       "284056          26.0      5670.0      M          7   \n",
       "284057          26.0      5670.0      M          5   \n",
       "284058          26.0      5670.0      M          7   \n",
       "\n",
       "                                                  Comment  \n",
       "0       After playing GTA III, Vice City and San Andre...  \n",
       "1       What happened?!? How did this go so wrong??? I...  \n",
       "2       Over hyped. A plain game pagued with framerate...  \n",
       "3       If you enjoyed previous GTAs, avoid this game ...  \n",
       "4       This review contains spoilers, click expand to...  \n",
       "...                                                   ...  \n",
       "284054  gran cierre de trilogía, ninguna misión brilla...  \n",
       "284055  8.6 - Really good COD, multiplayer maps were w...  \n",
       "284056  La  campaña es muy corta teniendo en cuenta lo...  \n",
       "284057  A fairly mediocre shooter with a boring story ...  \n",
       "284058  It feels like with Modern Warfare 3, hype was ...  \n",
       "\n",
       "[284059 rows x 20 columns]"
      ]
     },
     "metadata": {},
     "output_type": "display_data"
    }
   ],
   "source": [
    "display(displayDF)"
   ]
  },
  {
   "cell_type": "code",
   "execution_count": 267,
   "metadata": {},
   "outputs": [
    {
     "data": {
      "text/plain": [
       "DataFrame[Title: string, Year: int, Publisher: string, Category: string, Genre: string, Platfform: string, Metascore: int, Avg_Userscore: double, No_Players: string, NA_Sales: string, EU_Sales: string, JP_Sales: string, Other_Sales: string, Global_Sales: string, Critic_Score: string, Critic_Count: string, User_Count: string, Rating: string, Userscore: int, Comment: string]"
      ]
     },
     "metadata": {},
     "output_type": "display_data"
    }
   ],
   "source": [
    "# check structure\n",
    "display(gameDF)"
   ]
  },
  {
   "cell_type": "code",
   "execution_count": 268,
   "metadata": {},
   "outputs": [
    {
     "name": "stdout",
     "output_type": "stream",
     "text": [
      "+------------+\n",
      "|count(Title)|\n",
      "+------------+\n",
      "|          56|\n",
      "+------------+\n",
      "\n",
      "+----------------+\n",
      "|count(Publisher)|\n",
      "+----------------+\n",
      "|              53|\n",
      "+----------------+\n",
      "\n"
     ]
    }
   ],
   "source": [
    "# check distinct value\n",
    "from pyspark.sql.functions import col, countDistinct\n",
    "\n",
    "gameDF.agg(countDistinct(col(\"Title\"))).show()\n",
    "gameDF.agg(countDistinct(col(\"Publisher\"))).show()"
   ]
  },
  {
   "cell_type": "code",
   "execution_count": 269,
   "metadata": {},
   "outputs": [
    {
     "data": {
      "text/plain": [
       "DataFrame[Title: string, Year: int, Publisher: string, Category: string, Genre: string, Platfform: string, Metascore: int, Avg_Userscore: double, No_Players: string, NA_Sales: double, EU_Sales: double, JP_Sales: double, Other_Sales: double, Global_Sales: double, Critic_Score: double, Critic_Count: double, User_Count: double, Rating: string, Userscore: int, Comment: string]"
      ]
     },
     "metadata": {},
     "output_type": "display_data"
    }
   ],
   "source": [
    "gameDF = gameDF.withColumn(\"NA_Sales\",col(\"NA_Sales\").cast('double'))\n",
    "gameDF = gameDF.withColumn(\"EU_Sales\",col(\"EU_Sales\").cast('double'))\n",
    "gameDF = gameDF.withColumn(\"JP_Sales\",col(\"JP_Sales\").cast('double'))\n",
    "gameDF = gameDF.withColumn(\"Other_Sales\",col(\"Other_Sales\").cast('double'))\n",
    "gameDF = gameDF.withColumn(\"Global_Sales\",col(\"Global_Sales\").cast('double'))\n",
    "gameDF = gameDF.withColumn(\"Critic_Score\",col(\"Critic_Score\").cast('double'))\n",
    "gameDF = gameDF.withColumn(\"Critic_Count\",col(\"Critic_Count\").cast('double'))\n",
    "gameDF = gameDF.withColumn(\"User_Count\",col(\"User_Count\").cast('double'))\n",
    "\n",
    "display(gameDF)"
   ]
  },
  {
   "cell_type": "code",
   "execution_count": 270,
   "metadata": {},
   "outputs": [
    {
     "data": {
      "text/plain": [
       "DataFrame[Title: string, Year: int, Publisher: string, Category: string, Genre: string, Platfform: string, Metascore: int, Avg_Userscore: double, No_Players: string, NA_Sales: double, EU_Sales: double, JP_Sales: double, Other_Sales: double, Global_Sales: double, Critic_Score: double, Critic_Count: double, User_Count: double, Rating: string, Userscore: int]"
      ]
     },
     "metadata": {},
     "output_type": "display_data"
    }
   ],
   "source": [
    "# Drop \"comment\" column first to run Decision Tree\n",
    "game_wo_commentDF = gameDF.drop(\"comment\")\n",
    "display(game_wo_commentDF)"
   ]
  },
  {
   "cell_type": "code",
   "execution_count": 271,
   "metadata": {},
   "outputs": [],
   "source": [
    "# Create binary column to predict \"Userscore\"\n",
    "# Userscore <5 is 0, >=5 is 1\n",
    "game_rf_DF = game_wo_commentDF.withColumn(\"Userscore_Class\", when(col(\"Userscore\") >= 5, 1).otherwise(0)).drop(\"Userscore\")"
   ]
  },
  {
   "cell_type": "code",
   "execution_count": 272,
   "metadata": {},
   "outputs": [
    {
     "data": {
      "text/plain": [
       "DataFrame[Title: string, Year: int, Publisher: string, Category: string, Genre: string, Platfform: string, Metascore: int, Avg_Userscore: double, No_Players: string, NA_Sales: double, EU_Sales: double, JP_Sales: double, Other_Sales: double, Global_Sales: double, Critic_Score: double, Critic_Count: double, User_Count: double, Rating: string, Userscore_Class: int]"
      ]
     },
     "metadata": {},
     "output_type": "display_data"
    }
   ],
   "source": [
    "# check Userscore_Class: int\n",
    "display(game_rf_DF)"
   ]
  },
  {
   "cell_type": "code",
   "execution_count": 311,
   "metadata": {},
   "outputs": [
    {
     "name": "stdout",
     "output_type": "stream",
     "text": [
      "227213\n"
     ]
    }
   ],
   "source": [
    "trainDF, testDF = game_rf_DF.randomSplit([.8, .2], seed=15)\n",
    "print(trainDF.cache().count())"
   ]
  },
  {
   "cell_type": "code",
   "execution_count": 312,
   "metadata": {},
   "outputs": [],
   "source": [
    "from pyspark.ml.feature import StringIndexer\n",
    "\n",
    "categoricalCols = [field for (field, dataType) in trainDF.dtypes if dataType == \"string\"]\n",
    "indexOutputCols = [x + \"Index\" for x in categoricalCols]\n",
    "stringIndexer = StringIndexer(inputCols=categoricalCols, outputCols=indexOutputCols, handleInvalid=\"skip\")"
   ]
  },
  {
   "cell_type": "code",
   "execution_count": 313,
   "metadata": {},
   "outputs": [],
   "source": [
    "from pyspark.ml.feature import VectorAssembler\n",
    "\n",
    "# filter for just numeric columns (exclude Price, the label)\n",
    "numericCols = [field for (field, dataType) in trainDF.dtypes if ((dataType == \"double\") & (field != \"Userscore_Class\"))]\n",
    "# Combine output of StringIndexer defined above and numeric columns\n",
    "assemblerInputs = indexOutputCols + numericCols\n",
    "vecAssembler = VectorAssembler(inputCols=assemblerInputs, outputCol=\"features\", handleInvalid=\"skip\")"
   ]
  },
  {
   "cell_type": "code",
   "execution_count": 314,
   "metadata": {},
   "outputs": [],
   "source": [
    "# Using Decision Tree"
   ]
  },
  {
   "cell_type": "code",
   "execution_count": 315,
   "metadata": {},
   "outputs": [],
   "source": [
    "from pyspark.ml.classification import DecisionTreeClassifier\n",
    "\n",
    "dt = DecisionTreeClassifier(labelCol=\"Userscore_Class\")"
   ]
  },
  {
   "cell_type": "code",
   "execution_count": 316,
   "metadata": {},
   "outputs": [],
   "source": [
    "from pyspark.ml import Pipeline\n",
    "\n",
    "# Combine stages into pipeline\n",
    "stages = [stringIndexer, vecAssembler, dt]\n",
    "pipeline = Pipeline(stages=stages)"
   ]
  },
  {
   "cell_type": "code",
   "execution_count": 317,
   "metadata": {},
   "outputs": [],
   "source": [
    "# fit error: categorical feature has max 56 values\n",
    "# pipelineModel = pipeline.fit(trainDF)"
   ]
  },
  {
   "cell_type": "code",
   "execution_count": 318,
   "metadata": {},
   "outputs": [
    {
     "data": {
      "text/plain": [
       "DecisionTreeClassifier_1a59bc027546"
      ]
     },
     "execution_count": 318,
     "metadata": {},
     "output_type": "execute_result"
    }
   ],
   "source": [
    "# set MaxBins to 56\n",
    "dt.setMaxBins(56)"
   ]
  },
  {
   "cell_type": "code",
   "execution_count": 319,
   "metadata": {},
   "outputs": [],
   "source": [
    "# fit\n",
    "pipelineModel = pipeline.fit(trainDF)"
   ]
  },
  {
   "cell_type": "code",
   "execution_count": 320,
   "metadata": {},
   "outputs": [
    {
     "data": {
      "text/plain": [
       "DecisionTreeClassificationModel: uid=DecisionTreeClassifier_1a59bc027546, depth=4, numNodes=11, numClasses=2, numFeatures=16"
      ]
     },
     "metadata": {},
     "output_type": "display_data"
    }
   ],
   "source": [
    "# view tree\n",
    "dtModel = pipelineModel.stages[-1] #from back of the list aka last stage\n",
    "display(dtModel)"
   ]
  },
  {
   "cell_type": "code",
   "execution_count": 321,
   "metadata": {},
   "outputs": [
    {
     "data": {
      "text/plain": [
       "SparseVector(16, {0: 0.1303, 7: 0.8445, 13: 0.0252})"
      ]
     },
     "execution_count": 321,
     "metadata": {},
     "output_type": "execute_result"
    }
   ],
   "source": [
    "dtModel.featureImportances"
   ]
  },
  {
   "cell_type": "code",
   "execution_count": 322,
   "metadata": {},
   "outputs": [
    {
     "data": {
      "text/html": [
       "<div>\n",
       "<style scoped>\n",
       "    .dataframe tbody tr th:only-of-type {\n",
       "        vertical-align: middle;\n",
       "    }\n",
       "\n",
       "    .dataframe tbody tr th {\n",
       "        vertical-align: top;\n",
       "    }\n",
       "\n",
       "    .dataframe thead th {\n",
       "        text-align: right;\n",
       "    }\n",
       "</style>\n",
       "<table border=\"1\" class=\"dataframe\">\n",
       "  <thead>\n",
       "    <tr style=\"text-align: right;\">\n",
       "      <th></th>\n",
       "      <th>feature</th>\n",
       "      <th>importance</th>\n",
       "    </tr>\n",
       "  </thead>\n",
       "  <tbody>\n",
       "    <tr>\n",
       "      <th>0</th>\n",
       "      <td>TitleIndex</td>\n",
       "      <td>0.130343</td>\n",
       "    </tr>\n",
       "    <tr>\n",
       "      <th>1</th>\n",
       "      <td>PublisherIndex</td>\n",
       "      <td>0.000000</td>\n",
       "    </tr>\n",
       "    <tr>\n",
       "      <th>2</th>\n",
       "      <td>CategoryIndex</td>\n",
       "      <td>0.000000</td>\n",
       "    </tr>\n",
       "    <tr>\n",
       "      <th>3</th>\n",
       "      <td>GenreIndex</td>\n",
       "      <td>0.000000</td>\n",
       "    </tr>\n",
       "    <tr>\n",
       "      <th>4</th>\n",
       "      <td>PlatfformIndex</td>\n",
       "      <td>0.000000</td>\n",
       "    </tr>\n",
       "    <tr>\n",
       "      <th>5</th>\n",
       "      <td>No_PlayersIndex</td>\n",
       "      <td>0.000000</td>\n",
       "    </tr>\n",
       "    <tr>\n",
       "      <th>6</th>\n",
       "      <td>RatingIndex</td>\n",
       "      <td>0.000000</td>\n",
       "    </tr>\n",
       "    <tr>\n",
       "      <th>7</th>\n",
       "      <td>Avg_Userscore</td>\n",
       "      <td>0.844456</td>\n",
       "    </tr>\n",
       "    <tr>\n",
       "      <th>8</th>\n",
       "      <td>NA_Sales</td>\n",
       "      <td>0.000000</td>\n",
       "    </tr>\n",
       "    <tr>\n",
       "      <th>9</th>\n",
       "      <td>EU_Sales</td>\n",
       "      <td>0.000000</td>\n",
       "    </tr>\n",
       "    <tr>\n",
       "      <th>10</th>\n",
       "      <td>JP_Sales</td>\n",
       "      <td>0.000000</td>\n",
       "    </tr>\n",
       "    <tr>\n",
       "      <th>11</th>\n",
       "      <td>Other_Sales</td>\n",
       "      <td>0.000000</td>\n",
       "    </tr>\n",
       "    <tr>\n",
       "      <th>12</th>\n",
       "      <td>Global_Sales</td>\n",
       "      <td>0.000000</td>\n",
       "    </tr>\n",
       "    <tr>\n",
       "      <th>13</th>\n",
       "      <td>Critic_Score</td>\n",
       "      <td>0.025202</td>\n",
       "    </tr>\n",
       "    <tr>\n",
       "      <th>14</th>\n",
       "      <td>Critic_Count</td>\n",
       "      <td>0.000000</td>\n",
       "    </tr>\n",
       "    <tr>\n",
       "      <th>15</th>\n",
       "      <td>User_Count</td>\n",
       "      <td>0.000000</td>\n",
       "    </tr>\n",
       "  </tbody>\n",
       "</table>\n",
       "</div>"
      ],
      "text/plain": [
       "            feature  importance\n",
       "0        TitleIndex    0.130343\n",
       "1    PublisherIndex    0.000000\n",
       "2     CategoryIndex    0.000000\n",
       "3        GenreIndex    0.000000\n",
       "4    PlatfformIndex    0.000000\n",
       "5   No_PlayersIndex    0.000000\n",
       "6       RatingIndex    0.000000\n",
       "7     Avg_Userscore    0.844456\n",
       "8          NA_Sales    0.000000\n",
       "9          EU_Sales    0.000000\n",
       "10         JP_Sales    0.000000\n",
       "11      Other_Sales    0.000000\n",
       "12     Global_Sales    0.000000\n",
       "13     Critic_Score    0.025202\n",
       "14     Critic_Count    0.000000\n",
       "15       User_Count    0.000000"
      ]
     },
     "execution_count": 322,
     "metadata": {},
     "output_type": "execute_result"
    }
   ],
   "source": [
    "import pandas as pd\n",
    "\n",
    "featuresDF = pd.DataFrame(list(zip(vecAssembler.getInputCols(), dtModel.featureImportances)), columns=[\"feature\", \"importance\"])\n",
    "featuresDF"
   ]
  },
  {
   "cell_type": "code",
   "execution_count": 323,
   "metadata": {},
   "outputs": [
    {
     "name": "stdout",
     "output_type": "stream",
     "text": [
      "+--------------------+---------------+----------+\n",
      "|            features|Userscore_Class|prediction|\n",
      "+--------------------+---------------+----------+\n",
      "|[39.0,11.0,2.0,10...|              1|       1.0|\n",
      "|[39.0,11.0,2.0,10...|              1|       1.0|\n",
      "|[39.0,11.0,2.0,10...|              1|       1.0|\n",
      "|[39.0,11.0,2.0,10...|              1|       1.0|\n",
      "|[39.0,11.0,2.0,10...|              1|       1.0|\n",
      "+--------------------+---------------+----------+\n",
      "only showing top 5 rows\n",
      "\n"
     ]
    }
   ],
   "source": [
    "predDF = pipelineModel.transform(testDF)\n",
    "\n",
    "viewDF = predDF.select(\"features\", \"Userscore_Class\", \"prediction\").orderBy(\"Userscore_Class\", ascending=False)\n",
    "viewDF.show(n=5)"
   ]
  },
  {
   "cell_type": "code",
   "execution_count": 324,
   "metadata": {},
   "outputs": [
    {
     "name": "stdout",
     "output_type": "stream",
     "text": [
      "AUC is 0.7432867085773948\n"
     ]
    }
   ],
   "source": [
    "from pyspark.ml.evaluation import BinaryClassificationEvaluator\n",
    "\n",
    "evaluator = BinaryClassificationEvaluator(labelCol=\"Userscore_Class\", metricName=\"areaUnderROC\")\n",
    "\n",
    "auc = evaluator.evaluate(predDF)\n",
    "print(f\"AUC is {auc}\")"
   ]
  },
  {
   "cell_type": "code",
   "execution_count": 325,
   "metadata": {},
   "outputs": [],
   "source": [
    "# Using Random Forest"
   ]
  },
  {
   "cell_type": "code",
   "execution_count": 326,
   "metadata": {},
   "outputs": [],
   "source": [
    "from pyspark.ml.classification import RandomForestClassifier\n",
    "\n",
    "rf = RandomForestClassifier(labelCol=\"Userscore_Class\", maxBins=56, seed=17)"
   ]
  },
  {
   "cell_type": "code",
   "execution_count": 327,
   "metadata": {},
   "outputs": [],
   "source": [
    "from pyspark.ml.tuning import ParamGridBuilder\n",
    "\n",
    "paramGrid = (ParamGridBuilder()\n",
    "            .addGrid(rf.maxDepth, [2, 5, 10])\n",
    "            .addGrid(rf.numTrees, [10, 20, 100])\n",
    "            .build())"
   ]
  },
  {
   "cell_type": "code",
   "execution_count": 328,
   "metadata": {},
   "outputs": [],
   "source": [
    "# Use BinaryClassificationEvaluator (0,1 two class)\n",
    "from pyspark.ml.evaluation import BinaryClassificationEvaluator\n",
    "from pyspark.ml.tuning import CrossValidator\n",
    "\n",
    "evaluator = BinaryClassificationEvaluator(labelCol=\"Userscore_Class\")\n",
    "\n",
    "cv = CrossValidator(estimator=rf, evaluator=evaluator, estimatorParamMaps=paramGrid,\n",
    "                    numFolds=3, parallelism=4, seed=17)"
   ]
  },
  {
   "cell_type": "code",
   "execution_count": 329,
   "metadata": {},
   "outputs": [],
   "source": [
    "# Pipeline\n",
    "stages = [stringIndexer, vecAssembler, cv]\n",
    "pipeline = Pipeline(stages=stages)\n",
    "pipelineModel = pipeline.fit(trainDF)"
   ]
  },
  {
   "cell_type": "code",
   "execution_count": 330,
   "metadata": {},
   "outputs": [],
   "source": [
    "cvModel = pipelineModel.stages[-1]\n",
    "rfModel = cvModel.bestModel"
   ]
  },
  {
   "cell_type": "code",
   "execution_count": 331,
   "metadata": {},
   "outputs": [
    {
     "data": {
      "text/plain": [
       "[({Param(parent='RandomForestClassifier_4b8144d24add', name='maxDepth', doc='Maximum depth of the tree. (>= 0) E.g., depth 0 means 1 leaf node; depth 1 means 1 internal node + 2 leaf nodes. Must be in range [0, 30].'): 2,\n",
       "   Param(parent='RandomForestClassifier_4b8144d24add', name='numTrees', doc='Number of trees to train (>= 1).'): 10},\n",
       "  0.7477290899760602),\n",
       " ({Param(parent='RandomForestClassifier_4b8144d24add', name='maxDepth', doc='Maximum depth of the tree. (>= 0) E.g., depth 0 means 1 leaf node; depth 1 means 1 internal node + 2 leaf nodes. Must be in range [0, 30].'): 2,\n",
       "   Param(parent='RandomForestClassifier_4b8144d24add', name='numTrees', doc='Number of trees to train (>= 1).'): 20},\n",
       "  0.7478015437092494),\n",
       " ({Param(parent='RandomForestClassifier_4b8144d24add', name='maxDepth', doc='Maximum depth of the tree. (>= 0) E.g., depth 0 means 1 leaf node; depth 1 means 1 internal node + 2 leaf nodes. Must be in range [0, 30].'): 2,\n",
       "   Param(parent='RandomForestClassifier_4b8144d24add', name='numTrees', doc='Number of trees to train (>= 1).'): 100},\n",
       "  0.7537179348709204),\n",
       " ({Param(parent='RandomForestClassifier_4b8144d24add', name='maxDepth', doc='Maximum depth of the tree. (>= 0) E.g., depth 0 means 1 leaf node; depth 1 means 1 internal node + 2 leaf nodes. Must be in range [0, 30].'): 5,\n",
       "   Param(parent='RandomForestClassifier_4b8144d24add', name='numTrees', doc='Number of trees to train (>= 1).'): 10},\n",
       "  0.7633108034946376),\n",
       " ({Param(parent='RandomForestClassifier_4b8144d24add', name='maxDepth', doc='Maximum depth of the tree. (>= 0) E.g., depth 0 means 1 leaf node; depth 1 means 1 internal node + 2 leaf nodes. Must be in range [0, 30].'): 5,\n",
       "   Param(parent='RandomForestClassifier_4b8144d24add', name='numTrees', doc='Number of trees to train (>= 1).'): 20},\n",
       "  0.7604898837154943),\n",
       " ({Param(parent='RandomForestClassifier_4b8144d24add', name='maxDepth', doc='Maximum depth of the tree. (>= 0) E.g., depth 0 means 1 leaf node; depth 1 means 1 internal node + 2 leaf nodes. Must be in range [0, 30].'): 5,\n",
       "   Param(parent='RandomForestClassifier_4b8144d24add', name='numTrees', doc='Number of trees to train (>= 1).'): 100},\n",
       "  0.7736750857081922),\n",
       " ({Param(parent='RandomForestClassifier_4b8144d24add', name='maxDepth', doc='Maximum depth of the tree. (>= 0) E.g., depth 0 means 1 leaf node; depth 1 means 1 internal node + 2 leaf nodes. Must be in range [0, 30].'): 10,\n",
       "   Param(parent='RandomForestClassifier_4b8144d24add', name='numTrees', doc='Number of trees to train (>= 1).'): 10},\n",
       "  0.7641922080750425),\n",
       " ({Param(parent='RandomForestClassifier_4b8144d24add', name='maxDepth', doc='Maximum depth of the tree. (>= 0) E.g., depth 0 means 1 leaf node; depth 1 means 1 internal node + 2 leaf nodes. Must be in range [0, 30].'): 10,\n",
       "   Param(parent='RandomForestClassifier_4b8144d24add', name='numTrees', doc='Number of trees to train (>= 1).'): 20},\n",
       "  0.760467231404429),\n",
       " ({Param(parent='RandomForestClassifier_4b8144d24add', name='maxDepth', doc='Maximum depth of the tree. (>= 0) E.g., depth 0 means 1 leaf node; depth 1 means 1 internal node + 2 leaf nodes. Must be in range [0, 30].'): 10,\n",
       "   Param(parent='RandomForestClassifier_4b8144d24add', name='numTrees', doc='Number of trees to train (>= 1).'): 100},\n",
       "  0.7741051995741824)]"
      ]
     },
     "execution_count": 331,
     "metadata": {},
     "output_type": "execute_result"
    }
   ],
   "source": [
    "list(zip(cvModel.getEstimatorParamMaps(), cvModel.avgMetrics))"
   ]
  },
  {
   "cell_type": "code",
   "execution_count": 332,
   "metadata": {},
   "outputs": [
    {
     "name": "stdout",
     "output_type": "stream",
     "text": [
      "bootstrap: Whether bootstrap samples are used when building trees. (default: True)\n",
      "cacheNodeIds: If false, the algorithm will pass trees to executors to match instances with nodes. If true, the algorithm will cache node IDs for each instance. Caching can speed up training of deeper trees. Users can set how often should the cache be checkpointed or disable it by setting checkpointInterval. (default: False)\n",
      "checkpointInterval: set checkpoint interval (>= 1) or disable checkpoint (-1). E.g. 10 means that the cache will get checkpointed every 10 iterations. Note: this setting will be ignored if the checkpoint directory is not set in the SparkContext. (default: 10)\n",
      "featureSubsetStrategy: The number of features to consider for splits at each tree node. Supported options: 'auto' (choose automatically for task: If numTrees == 1, set to 'all'. If numTrees > 1 (forest), set to 'sqrt' for classification and to 'onethird' for regression), 'all' (use all features), 'onethird' (use 1/3 of the features), 'sqrt' (use sqrt(number of features)), 'log2' (use log2(number of features)), 'n' (when n is in the range (0, 1.0], use n * number of features. When n is in the range (1, number of features), use n features). default = 'auto' (default: auto)\n",
      "featuresCol: features column name. (default: features)\n",
      "impurity: Criterion used for information gain calculation (case-insensitive). Supported options: entropy, gini (default: gini)\n",
      "labelCol: label column name. (default: label, current: Userscore_Class)\n",
      "leafCol: Leaf indices column name. Predicted leaf index of each instance in each tree by preorder. (default: )\n",
      "maxBins: Max number of bins for discretizing continuous features.  Must be >=2 and >= number of categories for any categorical feature. (default: 32, current: 56)\n",
      "maxDepth: Maximum depth of the tree. (>= 0) E.g., depth 0 means 1 leaf node; depth 1 means 1 internal node + 2 leaf nodes. Must be in range [0, 30]. (default: 5, current: 10)\n",
      "maxMemoryInMB: Maximum memory in MB allocated to histogram aggregation. If too small, then 1 node will be split per iteration, and its aggregates may exceed this size. (default: 256)\n",
      "minInfoGain: Minimum information gain for a split to be considered at a tree node. (default: 0.0)\n",
      "minInstancesPerNode: Minimum number of instances each child must have after split. If a split causes the left or right child to have fewer than minInstancesPerNode, the split will be discarded as invalid. Should be >= 1. (default: 1)\n",
      "minWeightFractionPerNode: Minimum fraction of the weighted sample count that each child must have after split. If a split causes the fraction of the total weight in the left or right child to be less than minWeightFractionPerNode, the split will be discarded as invalid. Should be in interval [0.0, 0.5). (default: 0.0)\n",
      "numTrees: Number of trees to train (>= 1). (default: 20, current: 100)\n",
      "predictionCol: prediction column name. (default: prediction)\n",
      "probabilityCol: Column name for predicted class conditional probabilities. Note: Not all models output well-calibrated probability estimates! These probabilities should be treated as confidences, not precise probabilities. (default: probability)\n",
      "rawPredictionCol: raw prediction (a.k.a. confidence) column name. (default: rawPrediction)\n",
      "seed: random seed. (default: -5387697053847413545, current: 17)\n",
      "subsamplingRate: Fraction of the training data used for learning each decision tree, in range (0, 1]. (default: 1.0)\n",
      "thresholds: Thresholds in multi-class classification to adjust the probability of predicting each class. Array must have length equal to the number of classes, with values > 0, excepting that at most one value may be 0. The class with largest value p/t is predicted, where p is the original probability of that class and t is the class's threshold. (undefined)\n",
      "weightCol: weight column name. If this is not set or empty, we treat all instance weights as 1.0. (undefined)\n"
     ]
    }
   ],
   "source": [
    "print(rfModel.explainParams())"
   ]
  },
  {
   "cell_type": "code",
   "execution_count": 333,
   "metadata": {},
   "outputs": [
    {
     "data": {
      "text/html": [
       "<div>\n",
       "<style scoped>\n",
       "    .dataframe tbody tr th:only-of-type {\n",
       "        vertical-align: middle;\n",
       "    }\n",
       "\n",
       "    .dataframe tbody tr th {\n",
       "        vertical-align: top;\n",
       "    }\n",
       "\n",
       "    .dataframe thead th {\n",
       "        text-align: right;\n",
       "    }\n",
       "</style>\n",
       "<table border=\"1\" class=\"dataframe\">\n",
       "  <thead>\n",
       "    <tr style=\"text-align: right;\">\n",
       "      <th></th>\n",
       "      <th>feature</th>\n",
       "      <th>importance</th>\n",
       "    </tr>\n",
       "  </thead>\n",
       "  <tbody>\n",
       "    <tr>\n",
       "      <th>7</th>\n",
       "      <td>Avg_Userscore</td>\n",
       "      <td>0.434361</td>\n",
       "    </tr>\n",
       "    <tr>\n",
       "      <th>13</th>\n",
       "      <td>Critic_Score</td>\n",
       "      <td>0.165976</td>\n",
       "    </tr>\n",
       "    <tr>\n",
       "      <th>0</th>\n",
       "      <td>TitleIndex</td>\n",
       "      <td>0.096089</td>\n",
       "    </tr>\n",
       "    <tr>\n",
       "      <th>1</th>\n",
       "      <td>PublisherIndex</td>\n",
       "      <td>0.088202</td>\n",
       "    </tr>\n",
       "    <tr>\n",
       "      <th>3</th>\n",
       "      <td>GenreIndex</td>\n",
       "      <td>0.084325</td>\n",
       "    </tr>\n",
       "    <tr>\n",
       "      <th>15</th>\n",
       "      <td>User_Count</td>\n",
       "      <td>0.043342</td>\n",
       "    </tr>\n",
       "    <tr>\n",
       "      <th>5</th>\n",
       "      <td>No_PlayersIndex</td>\n",
       "      <td>0.014852</td>\n",
       "    </tr>\n",
       "    <tr>\n",
       "      <th>11</th>\n",
       "      <td>Other_Sales</td>\n",
       "      <td>0.014778</td>\n",
       "    </tr>\n",
       "    <tr>\n",
       "      <th>2</th>\n",
       "      <td>CategoryIndex</td>\n",
       "      <td>0.013055</td>\n",
       "    </tr>\n",
       "    <tr>\n",
       "      <th>14</th>\n",
       "      <td>Critic_Count</td>\n",
       "      <td>0.011985</td>\n",
       "    </tr>\n",
       "    <tr>\n",
       "      <th>9</th>\n",
       "      <td>EU_Sales</td>\n",
       "      <td>0.011370</td>\n",
       "    </tr>\n",
       "    <tr>\n",
       "      <th>12</th>\n",
       "      <td>Global_Sales</td>\n",
       "      <td>0.007161</td>\n",
       "    </tr>\n",
       "    <tr>\n",
       "      <th>6</th>\n",
       "      <td>RatingIndex</td>\n",
       "      <td>0.006238</td>\n",
       "    </tr>\n",
       "    <tr>\n",
       "      <th>8</th>\n",
       "      <td>NA_Sales</td>\n",
       "      <td>0.005913</td>\n",
       "    </tr>\n",
       "    <tr>\n",
       "      <th>10</th>\n",
       "      <td>JP_Sales</td>\n",
       "      <td>0.001753</td>\n",
       "    </tr>\n",
       "    <tr>\n",
       "      <th>4</th>\n",
       "      <td>PlatfformIndex</td>\n",
       "      <td>0.000600</td>\n",
       "    </tr>\n",
       "  </tbody>\n",
       "</table>\n",
       "</div>"
      ],
      "text/plain": [
       "            feature  importance\n",
       "7     Avg_Userscore    0.434361\n",
       "13     Critic_Score    0.165976\n",
       "0        TitleIndex    0.096089\n",
       "1    PublisherIndex    0.088202\n",
       "3        GenreIndex    0.084325\n",
       "15       User_Count    0.043342\n",
       "5   No_PlayersIndex    0.014852\n",
       "11      Other_Sales    0.014778\n",
       "2     CategoryIndex    0.013055\n",
       "14     Critic_Count    0.011985\n",
       "9          EU_Sales    0.011370\n",
       "12     Global_Sales    0.007161\n",
       "6       RatingIndex    0.006238\n",
       "8          NA_Sales    0.005913\n",
       "10         JP_Sales    0.001753\n",
       "4    PlatfformIndex    0.000600"
      ]
     },
     "execution_count": 333,
     "metadata": {},
     "output_type": "execute_result"
    }
   ],
   "source": [
    "# See feature importance\n",
    "import pandas as pd\n",
    "\n",
    "pandasDF = pd.DataFrame(list(zip(vecAssembler.getInputCols(), rfModel.featureImportances)), columns=[\"feature\", \"importance\"])\n",
    "topFeatures = pandasDF.sort_values([\"importance\"], ascending=False)\n",
    "topFeatures"
   ]
  },
  {
   "cell_type": "code",
   "execution_count": 334,
   "metadata": {},
   "outputs": [
    {
     "name": "stdout",
     "output_type": "stream",
     "text": [
      "+--------------------+---------------+----------+\n",
      "|            features|Userscore_Class|prediction|\n",
      "+--------------------+---------------+----------+\n",
      "|[39.0,11.0,2.0,10...|              1|       1.0|\n",
      "|[39.0,11.0,2.0,10...|              1|       1.0|\n",
      "|[39.0,11.0,2.0,10...|              1|       1.0|\n",
      "|[39.0,11.0,2.0,10...|              1|       1.0|\n",
      "|[39.0,11.0,2.0,10...|              1|       1.0|\n",
      "+--------------------+---------------+----------+\n",
      "only showing top 5 rows\n",
      "\n"
     ]
    }
   ],
   "source": [
    "# Apply model to data\n",
    "predDF = pipelineModel.transform(testDF)\n",
    "\n",
    "viewDF = predDF.select(\"features\", \"Userscore_Class\", \"prediction\").orderBy(\"Userscore_Class\", ascending=False)\n",
    "viewDF.show(n=5)"
   ]
  },
  {
   "cell_type": "code",
   "execution_count": 335,
   "metadata": {},
   "outputs": [
    {
     "name": "stdout",
     "output_type": "stream",
     "text": [
      "AUC is 0.7737999834694169\n"
     ]
    }
   ],
   "source": [
    "areaUnderROC = evaluator.evaluate(predDF)\n",
    "print(f\"AUC is {areaUnderROC}\") # {areaUnderROC:.2f} round to two decimal point"
   ]
  },
  {
   "cell_type": "code",
   "execution_count": 297,
   "metadata": {},
   "outputs": [],
   "source": [
    "# NLP"
   ]
  },
  {
   "cell_type": "code",
   "execution_count": 298,
   "metadata": {},
   "outputs": [],
   "source": [
    "# Predicting with Comments!"
   ]
  },
  {
   "cell_type": "code",
   "execution_count": 170,
   "metadata": {},
   "outputs": [
    {
     "name": "stdout",
     "output_type": "stream",
     "text": [
      "-RECORD 0------------------------------------------------------------------------------------------------------------------------------------------------------------------------------------------------------------------------------------------------------------------------------------------------------------------------------------------------------------------------------------------------------------------------------------------------------\n",
      " Title         | Grand Theft Auto IV                                                                                                                                                                                                                                                                                                                                                                                                                           \n",
      " Year          | 2008                                                                                                                                                                                                                                                                                                                                                                                                                                          \n",
      " Publisher     | RockstarNorth                                                                                                                                                                                                                                                                                                                                                                                                                                 \n",
      " Category      | Action                                                                                                                                                                                                                                                                                                                                                                                                                                        \n",
      " Genre         | Action Adventure;Modern;Modern;Open-World                                                                                                                                                                                                                                                                                                                                                                                                     \n",
      " Platfform     | PlayStation3                                                                                                                                                                                                                                                                                                                                                                                                                                  \n",
      " Metascore     | 98                                                                                                                                                                                                                                                                                                                                                                                                                                            \n",
      " Avg_Userscore | 7.5                                                                                                                                                                                                                                                                                                                                                                                                                                           \n",
      " No_Players    | 1 Player                                                                                                                                                                                                                                                                                                                                                                                                                                      \n",
      " NA_Sales      | 4.77                                                                                                                                                                                                                                                                                                                                                                                                                                          \n",
      " EU_Sales      | 3.7                                                                                                                                                                                                                                                                                                                                                                                                                                           \n",
      " JP_Sales      | 0.44                                                                                                                                                                                                                                                                                                                                                                                                                                          \n",
      " Other_Sales   | 1.61                                                                                                                                                                                                                                                                                                                                                                                                                                          \n",
      " Global_Sales  | 10.51                                                                                                                                                                                                                                                                                                                                                                                                                                         \n",
      " Critic_Score  | 98.0                                                                                                                                                                                                                                                                                                                                                                                                                                          \n",
      " Critic_Count  | 64.0                                                                                                                                                                                                                                                                                                                                                                                                                                          \n",
      " User_Count    | 2849.0                                                                                                                                                                                                                                                                                                                                                                                                                                        \n",
      " Rating        | M                                                                                                                                                                                                                                                                                                                                                                                                                                             \n",
      " Userscore     | 10                                                                                                                                                                                                                                                                                                                                                                                                                                            \n",
      " Comment       | After playing GTA III, Vice City and San Andreas it was hard to imagine being swept away again by another GTA game but man does this game deliver. The story, the characters, the setting and the game world are so well crafted and put together it's nice to see some developers still take time to prepare their works and not just milk a franchise with yearly releases.                                                                 \n",
      " Tokens        | [after, playing, gta, iii, vice, city, and, san, andreas, it, was, hard, to, imagine, being, swept, away, again, by, another, gta, game, but, man, does, this, game, deliver, the, story, the, characters, the, setting, and, the, game, world, are, so, well, crafted, and, put, together, it, s, nice, to, see, some, developers, still, take, time, to, prepare, their, works, and, not, just, milk, a, franchise, with, yearly, releases] \n",
      "only showing top 1 row\n",
      "\n"
     ]
    }
   ],
   "source": [
    "# Tokenizing the Comments\n",
    "from pyspark.ml.feature import Tokenizer, RegexTokenizer\n",
    "\n",
    "tokenizer = RegexTokenizer(inputCol=\"Comment\", outputCol=\"Tokens\", pattern=\"\\\\W\")\n",
    "tokenizedDF = tokenizer.transform(gameDF)\n",
    "tokenizedDF.show(n=1, truncate=False, vertical=True) # show vertically"
   ]
  },
  {
   "cell_type": "code",
   "execution_count": 171,
   "metadata": {},
   "outputs": [
    {
     "name": "stdout",
     "output_type": "stream",
     "text": [
      "-RECORD 0--------\n",
      " token | the     \n",
      " count | 2764993 \n",
      "-RECORD 1--------\n",
      " token | and     \n",
      " count | 1483115 \n",
      "-RECORD 2--------\n",
      " token | a       \n",
      " count | 1291602 \n",
      "-RECORD 3--------\n",
      " token | to      \n",
      " count | 1202409 \n",
      "-RECORD 4--------\n",
      " token | is      \n",
      " count | 1096492 \n",
      "-RECORD 5--------\n",
      " token | game    \n",
      " count | 1086323 \n",
      "-RECORD 6--------\n",
      " token | of      \n",
      " count | 1069056 \n",
      "-RECORD 7--------\n",
      " token | i       \n",
      " count | 1064676 \n",
      "-RECORD 8--------\n",
      " token | it      \n",
      " count | 975280  \n",
      "-RECORD 9--------\n",
      " token | you     \n",
      " count | 716239  \n",
      "-RECORD 10-------\n",
      " token | this    \n",
      " count | 677646  \n",
      "-RECORD 11-------\n",
      " token | in      \n",
      " count | 618875  \n",
      "-RECORD 12-------\n",
      " token | that    \n",
      " count | 594118  \n",
      "-RECORD 13-------\n",
      " token | for     \n",
      " count | 437001  \n",
      "-RECORD 14-------\n",
      " token | but     \n",
      " count | 435311  \n",
      "-RECORD 15-------\n",
      " token | are     \n",
      " count | 401307  \n",
      "-RECORD 16-------\n",
      " token | with    \n",
      " count | 386872  \n",
      "-RECORD 17-------\n",
      " token | s       \n",
      " count | 376488  \n",
      "-RECORD 18-------\n",
      " token | t       \n",
      " count | 335640  \n",
      "-RECORD 19-------\n",
      " token | have    \n",
      " count | 318986  \n",
      "only showing top 20 rows\n",
      "\n"
     ]
    }
   ],
   "source": [
    "from pyspark.sql.functions import explode, col\n",
    "\n",
    "wordDist = (\n",
    "    tokenizedDF.withColumn(\"token\", explode(col(\"Tokens\")))\n",
    "    .groupBy(\"token\")\n",
    "    .count()\n",
    "    .sort(col(\"count\").desc())\n",
    ")\n",
    "\n",
    "wordDist.show(n=20, truncate=False, vertical=True) # should customize stop word"
   ]
  },
  {
   "cell_type": "code",
   "execution_count": 175,
   "metadata": {},
   "outputs": [
    {
     "name": "stdout",
     "output_type": "stream",
     "text": [
      "Our stopwords:\n",
      " ['i', 'me', 'my', 'myself', 'we', 'our', 'ours', 'ourselves', 'you', 'your', 'yours', 'yourself', 'yourselves', 'he', 'him', 'his', 'himself', 'she', 'her', 'hers', 'herself', 'it', 'its', 'itself', 'they', 'them', 'their', 'theirs', 'themselves', 'what', 'which', 'who', 'whom', 'this', 'that', 'these', 'those', 'am', 'is', 'are', 'was', 'were', 'be', 'been', 'being', 'have', 'has', 'had', 'having', 'do', 'does', 'did', 'doing', 'a', 'an', 'the', 'and', 'but', 'if', 'or', 'because', 'as', 'until', 'while', 'of', 'at', 'by', 'for', 'with', 'about', 'against', 'between', 'into', 'through', 'during', 'before', 'after', 'above', 'below', 'to', 'from', 'up', 'down', 'in', 'out', 'on', 'off', 'over', 'under', 'again', 'further', 'then', 'once', 'here', 'there', 'when', 'where', 'why', 'how', 'all', 'any', 'both', 'each', 'few', 'more', 'most', 'other', 'some', 'such', 'no', 'nor', 'not', 'only', 'own', 'same', 'so', 'than', 'too', 'very', 's', 't', 'can', 'will', 'just', 'don', 'should', 'now', \"i'll\", \"you'll\", \"he'll\", \"she'll\", \"we'll\", \"they'll\", \"i'd\", \"you'd\", \"he'd\", \"she'd\", \"we'd\", \"they'd\", \"i'm\", \"you're\", \"he's\", \"she's\", \"it's\", \"we're\", \"they're\", \"i've\", \"we've\", \"you've\", \"they've\", \"isn't\", \"aren't\", \"wasn't\", \"weren't\", \"haven't\", \"hasn't\", \"hadn't\", \"don't\", \"doesn't\", \"didn't\", \"won't\", \"wouldn't\", \"shan't\", \"shouldn't\", \"mustn't\", \"can't\", \"couldn't\", 'cannot', 'could', \"here's\", \"how's\", \"let's\", 'ought', \"that's\", \"there's\", \"what's\", \"when's\", \"where's\", \"who's\", \"why's\", 'would', 'even', 'much', 'really', 'game', 'games', 'play', 'played', '2', '3', '10']\n"
     ]
    }
   ],
   "source": [
    "# Remove StopWords\n",
    "from pyspark.ml.feature import StopWordsRemover\n",
    "\n",
    "# add unrelevant words to stopword list\n",
    "stopWords = StopWordsRemover().getStopWords() + [\"even\", \"much\", \"really\", \"game\", \"games\", \"play\", \"played\", \"2\", \"3\", \"10\"]\n",
    "print(f\"Our stopwords:\\n {stopWords}\")"
   ]
  },
  {
   "cell_type": "code",
   "execution_count": 176,
   "metadata": {},
   "outputs": [],
   "source": [
    "from pyspark.ml.feature import StopWordsRemover"
   ]
  },
  {
   "cell_type": "code",
   "execution_count": 177,
   "metadata": {},
   "outputs": [
    {
     "name": "stdout",
     "output_type": "stream",
     "text": [
      "-RECORD 0---------------\n",
      " indivTokens | like     \n",
      " count       | 236694   \n",
      "-RECORD 1---------------\n",
      " indivTokens | story    \n",
      " count       | 185974   \n",
      "-RECORD 2---------------\n",
      " indivTokens | one      \n",
      " count       | 172920   \n",
      "-RECORD 3---------------\n",
      " indivTokens | good     \n",
      " count       | 166374   \n",
      "-RECORD 4---------------\n",
      " indivTokens | great    \n",
      " count       | 142048   \n",
      "-RECORD 5---------------\n",
      " indivTokens | get      \n",
      " count       | 127142   \n",
      "-RECORD 6---------------\n",
      " indivTokens | time     \n",
      " count       | 123878   \n",
      "-RECORD 7---------------\n",
      " indivTokens | fun      \n",
      " count       | 112901   \n",
      "-RECORD 8---------------\n",
      " indivTokens | best     \n",
      " count       | 112310   \n",
      "-RECORD 9---------------\n",
      " indivTokens | graphics \n",
      " count       | 107703   \n",
      "-RECORD 10--------------\n",
      " indivTokens | first    \n",
      " count       | 106157   \n",
      "-RECORD 11--------------\n",
      " indivTokens | new      \n",
      " count       | 99837    \n",
      "-RECORD 12--------------\n",
      " indivTokens | well     \n",
      " count       | 94483    \n",
      "-RECORD 13--------------\n",
      " indivTokens | gameplay \n",
      " count       | 92150    \n",
      "-RECORD 14--------------\n",
      " indivTokens | world    \n",
      " count       | 88859    \n",
      "-RECORD 15--------------\n",
      " indivTokens | people   \n",
      " count       | 87894    \n",
      "-RECORD 16--------------\n",
      " indivTokens | still    \n",
      " count       | 82462    \n",
      "-RECORD 17--------------\n",
      " indivTokens | better   \n",
      " count       | 81402    \n",
      "-RECORD 18--------------\n",
      " indivTokens | playing  \n",
      " count       | 79676    \n",
      "-RECORD 19--------------\n",
      " indivTokens | also     \n",
      " count       | 79237    \n",
      "only showing top 20 rows\n",
      "\n"
     ]
    }
   ],
   "source": [
    "stopwordsRemover = StopWordsRemover(inputCol=\"Tokens\", outputCol=\"CleanTokens\", stopWords=stopWords)\n",
    "processedDF = stopwordsRemover.transform(tokenizedDF)\n",
    "\n",
    "# Result\n",
    "wordDistNew = (\n",
    "    processedDF.withColumn(\"indivTokens\", explode(col(\"CleanTokens\")))\n",
    "    .groupBy(\"indivTokens\")\n",
    "    .count()\n",
    "    .sort(col(\"count\").desc())\n",
    ")\n",
    "\n",
    "wordDistNew.show(n=20, truncate=False, vertical=True)"
   ]
  },
  {
   "cell_type": "code",
   "execution_count": 178,
   "metadata": {},
   "outputs": [],
   "source": [
    "# save DF\n",
    "processedDF.write.parquet(\"/Users/stephanie/Documents/Csc_696_High-Performance_Computing/FinalProject/data/processeddf.parquet\", mode = \"overwrite\")"
   ]
  },
  {
   "cell_type": "code",
   "execution_count": 179,
   "metadata": {},
   "outputs": [],
   "source": [
    "# read DF\n",
    "processedDF = spark.read.parquet(\"/Users/stephanie/Documents/Csc_696_High-Performance_Computing/FinalProject/data/processeddf.parquet\")"
   ]
  },
  {
   "cell_type": "code",
   "execution_count": 180,
   "metadata": {},
   "outputs": [],
   "source": [
    "# TF-IDF scrore\n",
    "from pyspark.ml import Pipeline\n",
    "from pyspark.ml.feature import HashingTF, IDF, Tokenizer, Normalizer\n",
    "\n",
    "hashingTF = HashingTF(inputCol=\"CleanTokens\", outputCol=\"TermFrequencies\")  # Or use CountVectorizer\n",
    "idf = IDF(inputCol=\"TermFrequencies\", outputCol=\"TFIDFScore\")\n",
    "normalizer = Normalizer(inputCol=\"TFIDFScore\", outputCol=\"TFIDFScoreNorm\", p=2)  # Normalize L2\n",
    "\n",
    "# Adding functions into a pipeline to streamline calling process\n",
    "tfidfPipeline = Pipeline(stages=[hashingTF, idf, normalizer])\n",
    "tfidfModel = tfidfPipeline.fit(processedDF)\n",
    "tfidfDF = tfidfModel.transform(processedDF).drop(\"TFIDFScore\")"
   ]
  },
  {
   "cell_type": "code",
   "execution_count": 181,
   "metadata": {},
   "outputs": [
    {
     "data": {
      "text/plain": [
       "DataFrame[Title: string, Year: int, Publisher: string, Category: string, Genre: string, Platfform: string, Metascore: int, Avg_Userscore: double, No_Players: string, NA_Sales: double, EU_Sales: double, JP_Sales: double, Other_Sales: double, Global_Sales: double, Critic_Score: double, Critic_Count: double, User_Count: double, Rating: string, Userscore: int, Comment: string, Tokens: array<string>, CleanTokens: array<string>, TermFrequencies: vector, TFIDFScoreNorm: vector]"
      ]
     },
     "metadata": {},
     "output_type": "display_data"
    }
   ],
   "source": [
    "display(tfidfDF)"
   ]
  },
  {
   "cell_type": "code",
   "execution_count": 182,
   "metadata": {},
   "outputs": [
    {
     "name": "stdout",
     "output_type": "stream",
     "text": [
      "-RECORD 0----------------------------------------------------------------------------------------------------------------------------------------------------------------------------------------------------------------------------------------------------------------------------------------------------------------------------------------------------------------------------------------------------------------------------------------------------------------------------------------------------------------------------------------------------------------------------------------------------------------------------------------------------------------------------------------------------------------------------------------------------------------------------------------------------------------------------------------------------------------------------------------------------------------------------------------------------\n",
      " Comment        | After playing GTA III, Vice City and San Andreas it was hard to imagine being swept away again by another GTA game but man does this game deliver. The story, the characters, the setting and the game world are so well crafted and put together it's nice to see some developers still take time to prepare their works and not just milk a franchise with yearly releases.                                                                                                                                                                                                                                                                                                                                                                                                                                                                                                                                                              \n",
      " CleanTokens    | [playing, gta, iii, vice, city, san, andreas, hard, imagine, swept, away, another, gta, man, deliver, story, characters, setting, world, well, crafted, put, together, nice, see, developers, still, take, time, prepare, works, milk, franchise, yearly, releases]                                                                                                                                                                                                                                                                                                                                                                                                                                                                                                                                                                                                                                                                        \n",
      " TFIDFScoreNorm | (262144,[2437,8538,9129,19698,22346,22373,31536,41333,55639,60080,73492,77751,77961,102713,109753,111767,121517,129712,133406,136073,140381,147224,176297,181321,186925,191897,213005,214373,219389,224997,229543,239681,243200,253382],[0.11481581656233585,0.09258256202324477,0.12201784888624305,0.08474670074145255,0.12007733483110296,0.19563743850472037,0.07452549797121295,0.20105103536486502,0.10584273996623778,0.07728354162525979,0.2262135171997483,0.11174632436361821,0.2753304385419192,0.1543246158796425,0.16895184774378197,0.04846762982285325,0.06034496754425462,0.13126442763140458,0.24367629307863295,0.20743637987350352,0.2658453772471177,0.15808626788641364,0.20242256878595974,0.14648309551577182,0.0710258458943689,0.19281626172258334,0.21591541542563597,0.3399256726249972,0.07513820220440535,0.18998641571075917,0.1431793989841945,0.1454020771983572,0.25531484332494025,0.10871127819756218]) \n",
      "only showing top 1 row\n",
      "\n"
     ]
    }
   ],
   "source": [
    "tfidfDF_view = tfidfDF.select(\"Comment\", \"CleanTokens\", \"TFIDFScoreNorm\")\n",
    "tfidfDF_view.show(n=1, truncate=False, vertical=True)"
   ]
  },
  {
   "cell_type": "code",
   "execution_count": 228,
   "metadata": {},
   "outputs": [],
   "source": [
    "# Sentiment Analysis"
   ]
  },
  {
   "cell_type": "code",
   "execution_count": 229,
   "metadata": {},
   "outputs": [],
   "source": [
    "from pyspark.sql.functions import col, when\n",
    "import numpy as np\n",
    "from tensorflow import keras\n",
    "from tensorflow.keras import layers\n",
    "from tensorflow.keras.preprocessing.text import Tokenizer\n",
    "from tensorflow.keras.preprocessing.sequence import pad_sequences\n",
    "import pandas as pd\n",
    "import mlflow\n",
    "import mlflow.tensorflow"
   ]
  },
  {
   "cell_type": "code",
   "execution_count": 230,
   "metadata": {},
   "outputs": [],
   "source": [
    "sentmtDF = (spark.read.parquet(\"/Users/stephanie/Documents/Csc_696_High-Performance_Computing/FinalProject/data/gametfidf.parquet\")\n",
    "           .select(\"Comment\", \"Userscore\")\n",
    "           .limit(30000) # shorten the time\n",
    "          )"
   ]
  },
  {
   "cell_type": "code",
   "execution_count": 231,
   "metadata": {},
   "outputs": [
    {
     "data": {
      "text/plain": [
       "30000"
      ]
     },
     "execution_count": 231,
     "metadata": {},
     "output_type": "execute_result"
    }
   ],
   "source": [
    "sentmtDF.count()"
   ]
  },
  {
   "cell_type": "code",
   "execution_count": 232,
   "metadata": {},
   "outputs": [
    {
     "name": "stdout",
     "output_type": "stream",
     "text": [
      "-RECORD 0---------------------------------------------------------------------------------------------------------------------------------------------------------------------------------------------------------------------------------------------------------------------------------------------------------------------------------------------------------------------------------------------------------------------------------------------------------------------------------------------------------------------------------------------------------------------------------------------------------------------------------------------------------------------------------------------------------------------------------------------------------------------------------------------------------------------------------------------------------------------------------------------------------------------------------------------------------------------------------------------------------------------------------------------------------------------------------------------------------------------------------------------------------------------------------------------------------\n",
      " Comment   | After playing GTA III, Vice City and San Andreas it was hard to imagine being swept away again by another GTA game but man does this game deliver. The story, the characters, the setting and the game world are so well crafted and put together it's nice to see some developers still take time to prepare their works and not just milk a franchise with yearly releases.                                                                                                                                                                                                                                                                                                                                                                                                                                                                                                                                                                                                                                                                                                                                                                                                                        \n",
      " Userscore | 10                                                                                                                                                                                                                                                                                                                                                                                                                                                                                                                                                                                                                                                                                                                                                                                                                                                                                                                                                                                                                                                                                                                                                                                                   \n",
      "-RECORD 1---------------------------------------------------------------------------------------------------------------------------------------------------------------------------------------------------------------------------------------------------------------------------------------------------------------------------------------------------------------------------------------------------------------------------------------------------------------------------------------------------------------------------------------------------------------------------------------------------------------------------------------------------------------------------------------------------------------------------------------------------------------------------------------------------------------------------------------------------------------------------------------------------------------------------------------------------------------------------------------------------------------------------------------------------------------------------------------------------------------------------------------------------------------------------------------------------------\n",
      " Comment   | What happened?!? How did this go so wrong??? I was so unbelievably excited about this game, and I thought for the first 5 minutes that it would be as great as I had always hoped... and then it just wasn't. I can't particularly put my finger on an exact reason why... I'm going to blame GTA san andreas, which just set my hopes so high. Sure GTAIV has a great story line, interestingWhat happened?!? How did this go so wrong??? I was so unbelievably excited about this game, and I thought for the first 5 minutes that it would be as great as I had always hoped... and then it just wasn't. I can't particularly put my finger on an exact reason why... I'm going to blame GTA san andreas, which just set my hopes so high. Sure GTAIV has a great story line, interesting characters (If a little stereotypical and annoying) and sometimes fun gameplay... but I've seen it all before and I didn't get sucked into the world in the same way I have in previous iterations. No customisation, a bland city with such a small amount of variety....... How did it go downhill so much from SA??? Overall I think this is a fun game, but one of the most over-rated of all time. \n",
      " Userscore | 6                                                                                                                                                                                                                                                                                                                                                                                                                                                                                                                                                                                                                                                                                                                                                                                                                                                                                                                                                                                                                                                                                                                                                                                                    \n",
      "-RECORD 2---------------------------------------------------------------------------------------------------------------------------------------------------------------------------------------------------------------------------------------------------------------------------------------------------------------------------------------------------------------------------------------------------------------------------------------------------------------------------------------------------------------------------------------------------------------------------------------------------------------------------------------------------------------------------------------------------------------------------------------------------------------------------------------------------------------------------------------------------------------------------------------------------------------------------------------------------------------------------------------------------------------------------------------------------------------------------------------------------------------------------------------------------------------------------------------------------------\n",
      " Comment   | Over hyped. A plain game pagued with framerate issues and bad gore effects. Ohh.                                                                                                                                                                                                                                                                                                                                                                                                                                                                                                                                                                                                                                                                                                                                                                                                                                                                                                                                                                                                                                                                                                                     \n",
      " Userscore | 2                                                                                                                                                                                                                                                                                                                                                                                                                                                                                                                                                                                                                                                                                                                                                                                                                                                                                                                                                                                                                                                                                                                                                                                                    \n",
      "only showing top 3 rows\n",
      "\n"
     ]
    }
   ],
   "source": [
    "sentmtDF.show(n=3, truncate=False, vertical=True)"
   ]
  },
  {
   "cell_type": "code",
   "execution_count": 233,
   "metadata": {},
   "outputs": [
    {
     "data": {
      "text/plain": [
       "0"
      ]
     },
     "execution_count": 233,
     "metadata": {},
     "output_type": "execute_result"
    }
   ],
   "source": [
    "# check if there is null\n",
    "sentmtDF.filter(col(\"Userscore\").isNull()).count()"
   ]
  },
  {
   "cell_type": "code",
   "execution_count": 234,
   "metadata": {},
   "outputs": [
    {
     "name": "stdout",
     "output_type": "stream",
     "text": [
      "-RECORD 0---------------------------------------------------------------------------------------------------------------------------------------------------------------------------------------------------------------------------------------------------------------------------------------------------------------------------------------------------------------------------------------------------------------------------------------------------------------------------------------------------------------------------------------------------------------------------------------------------------------------------------------------------------------------------------------------------------------------------------------------------------------------------------------------------------------------------------------------------------------------------------------------------------------------------------------------------------------------------------------------------------------------------------------------------------------------------------------------------------------------------------------------------------------------------------------------------------\n",
      " Comment   | After playing GTA III, Vice City and San Andreas it was hard to imagine being swept away again by another GTA game but man does this game deliver. The story, the characters, the setting and the game world are so well crafted and put together it's nice to see some developers still take time to prepare their works and not just milk a franchise with yearly releases.                                                                                                                                                                                                                                                                                                                                                                                                                                                                                                                                                                                                                                                                                                                                                                                                                        \n",
      " Userscore | 10                                                                                                                                                                                                                                                                                                                                                                                                                                                                                                                                                                                                                                                                                                                                                                                                                                                                                                                                                                                                                                                                                                                                                                                                   \n",
      " sentiment | 1                                                                                                                                                                                                                                                                                                                                                                                                                                                                                                                                                                                                                                                                                                                                                                                                                                                                                                                                                                                                                                                                                                                                                                                                    \n",
      "-RECORD 1---------------------------------------------------------------------------------------------------------------------------------------------------------------------------------------------------------------------------------------------------------------------------------------------------------------------------------------------------------------------------------------------------------------------------------------------------------------------------------------------------------------------------------------------------------------------------------------------------------------------------------------------------------------------------------------------------------------------------------------------------------------------------------------------------------------------------------------------------------------------------------------------------------------------------------------------------------------------------------------------------------------------------------------------------------------------------------------------------------------------------------------------------------------------------------------------------------\n",
      " Comment   | What happened?!? How did this go so wrong??? I was so unbelievably excited about this game, and I thought for the first 5 minutes that it would be as great as I had always hoped... and then it just wasn't. I can't particularly put my finger on an exact reason why... I'm going to blame GTA san andreas, which just set my hopes so high. Sure GTAIV has a great story line, interestingWhat happened?!? How did this go so wrong??? I was so unbelievably excited about this game, and I thought for the first 5 minutes that it would be as great as I had always hoped... and then it just wasn't. I can't particularly put my finger on an exact reason why... I'm going to blame GTA san andreas, which just set my hopes so high. Sure GTAIV has a great story line, interesting characters (If a little stereotypical and annoying) and sometimes fun gameplay... but I've seen it all before and I didn't get sucked into the world in the same way I have in previous iterations. No customisation, a bland city with such a small amount of variety....... How did it go downhill so much from SA??? Overall I think this is a fun game, but one of the most over-rated of all time. \n",
      " Userscore | 6                                                                                                                                                                                                                                                                                                                                                                                                                                                                                                                                                                                                                                                                                                                                                                                                                                                                                                                                                                                                                                                                                                                                                                                                    \n",
      " sentiment | 1                                                                                                                                                                                                                                                                                                                                                                                                                                                                                                                                                                                                                                                                                                                                                                                                                                                                                                                                                                                                                                                                                                                                                                                                    \n",
      "-RECORD 2---------------------------------------------------------------------------------------------------------------------------------------------------------------------------------------------------------------------------------------------------------------------------------------------------------------------------------------------------------------------------------------------------------------------------------------------------------------------------------------------------------------------------------------------------------------------------------------------------------------------------------------------------------------------------------------------------------------------------------------------------------------------------------------------------------------------------------------------------------------------------------------------------------------------------------------------------------------------------------------------------------------------------------------------------------------------------------------------------------------------------------------------------------------------------------------------------------\n",
      " Comment   | Over hyped. A plain game pagued with framerate issues and bad gore effects. Ohh.                                                                                                                                                                                                                                                                                                                                                                                                                                                                                                                                                                                                                                                                                                                                                                                                                                                                                                                                                                                                                                                                                                                     \n",
      " Userscore | 2                                                                                                                                                                                                                                                                                                                                                                                                                                                                                                                                                                                                                                                                                                                                                                                                                                                                                                                                                                                                                                                                                                                                                                                                    \n",
      " sentiment | 0                                                                                                                                                                                                                                                                                                                                                                                                                                                                                                                                                                                                                                                                                                                                                                                                                                                                                                                                                                                                                                                                                                                                                                                                    \n",
      "only showing top 3 rows\n",
      "\n"
     ]
    }
   ],
   "source": [
    "# set \"Sentiment\" if Userscore >= 5 is 1, <5 is 0\n",
    "from pyspark.sql.functions import when\n",
    "\n",
    "sentmtDF = sentmtDF.withColumn(\"sentiment\", when(col(\"Userscore\") >= 5, 1).otherwise(0))\n",
    "sentmtDF.show(n=3, truncate=False, vertical=True)"
   ]
  },
  {
   "cell_type": "code",
   "execution_count": 235,
   "metadata": {},
   "outputs": [
    {
     "name": "stdout",
     "output_type": "stream",
     "text": [
      "87.13333333333333% of comments are positive\n"
     ]
    }
   ],
   "source": [
    "# How many positive comments\n",
    "positive_review_percent = sentmtDF.filter(col(\"sentiment\") == 1).count() / sentmtDF.count() * 100\n",
    "print(f\"{positive_review_percent}% of comments are positive\")"
   ]
  },
  {
   "cell_type": "code",
   "execution_count": 236,
   "metadata": {},
   "outputs": [],
   "source": [
    "(train_df, test_df) = sentmtDF.randomSplit([0.8, 0.2], seed=15)"
   ]
  },
  {
   "cell_type": "code",
   "execution_count": 237,
   "metadata": {},
   "outputs": [
    {
     "name": "stdout",
     "output_type": "stream",
     "text": [
      "86.97786653353303% of comments in the train_df are positive\n",
      "87.75989268947015% of comments in the test_df are positive\n"
     ]
    }
   ],
   "source": [
    "train_positive_review_percent = train_df.filter(col(\"sentiment\") == 1).count() / train_df.count() * 100\n",
    "test_positive_review_percent = test_df.filter(col(\"sentiment\") == 1).count() / test_df.count() * 100\n",
    "print(f\"{train_positive_review_percent}% of comments in the train_df are positive\")\n",
    "print(f\"{test_positive_review_percent}% of comments in the test_df are positive\")"
   ]
  },
  {
   "cell_type": "code",
   "execution_count": 238,
   "metadata": {},
   "outputs": [],
   "source": [
    "# Tokenization\n",
    "train_pdf = train_df.toPandas()\n",
    "x_train = train_pdf[\"Comment\"].values\n",
    "y_train = train_pdf[\"sentiment\"].values"
   ]
  },
  {
   "cell_type": "code",
   "execution_count": 239,
   "metadata": {},
   "outputs": [],
   "source": [
    "from keras.preprocessing.text import Tokenizer\n",
    "\n",
    "vocab_size = 10000\n",
    "tokenizer = Tokenizer(num_words=vocab_size) # num_words: most frequent words\n",
    "tokenizer.fit_on_texts(x_train)\n",
    "### convert the texts to sequences\n",
    "x_train_seq = tokenizer.texts_to_sequences(x_train)"
   ]
  },
  {
   "cell_type": "code",
   "execution_count": 240,
   "metadata": {},
   "outputs": [
    {
     "name": "stdout",
     "output_type": "stream",
     "text": [
      "minimum number of words: 0\n",
      "median number of words: 72.0\n",
      "average number of words: 155.66412880678982\n",
      "maximum number of words: 2012\n"
     ]
    }
   ],
   "source": [
    "l = [len(i) for i in x_train_seq]\n",
    "l = np.array(l)\n",
    "print(f\"minimum number of words: {l.min()}\")\n",
    "print(f\"median number of words: {np.median(l)}\")\n",
    "print(f\"average number of words: {l.mean()}\")\n",
    "print(f\"maximum number of words: {l.max()}\")"
   ]
  },
  {
   "cell_type": "code",
   "execution_count": 241,
   "metadata": {},
   "outputs": [
    {
     "name": "stdout",
     "output_type": "stream",
     "text": [
      "!!!GTA V has evolved in a good way since the first release on the 360 and ps3, then the ps4 and Xone!!! Today it has been realsed for the PC and it is the best version of all. Running this games on 60fps and 1080p has its benefits. The water, the sun, buildings and all the AI surrounding player crafts a beautiful game. The player will be constantly playing this game and adding 100s of!!!GTA V has evolved in a good way since the first release on the 360 and ps3, then the ps4 and Xone!!! Today it has been realsed for the PC and it is the best version of all. Running this games on 60fps and 1080p has its benefits. The water, the sun, buildings and all the AI surrounding player crafts a beautiful game. The player will be constantly playing this game and adding 100s of hours to it each year. I you are looking for the best GTA experiance or GTA V experiance, go with the PC version of GTA V. The requirments are not as high like other AAA games such as Unity, Hardline, or FC4. I promise this will be one of the best gaming experiances of your life. Buy a copy today on Steam!!\n",
      "\n",
      "\n",
      "[18, 76, 37, 2548, 11, 3, 43, 103, 182, 1, 88, 304, 20, 1, 367, 2, 280, 120, 1, 404, 2, 4096, 821, 9, 37, 83, 15, 1, 116, 2, 9, 5, 1, 36, 212, 7, 23, 476, 10, 30, 20, 2305, 2, 1816, 37, 61, 4503, 1, 840, 1, 1462, 951, 2, 23, 1, 542, 1698, 137, 9477, 3, 199, 6, 1, 137, 65, 26, 790, 104, 10, 6, 2, 1165, 4781, 7, 18, 76, 37, 2548, 11, 3, 43, 103, 182, 1, 88, 304, 20, 1, 367, 2, 280, 120, 1, 404, 2, 4096, 821, 9, 37, 83, 15, 1, 116, 2, 9, 5, 1, 36, 212, 7, 23, 476, 10, 30, 20, 2305, 2, 1816, 37, 61, 4503, 1, 840, 1, 1462, 951, 2, 23, 1, 542, 1698, 137, 9477, 3, 199, 6, 1, 137, 65, 26, 790, 104, 10, 6, 2, 1165, 4781, 7, 130, 4, 9, 313, 241, 8, 12, 16, 352, 15, 1, 36, 18, 6205, 40, 18, 76, 6205, 110, 17, 1, 116, 212, 7, 18, 76, 1, 16, 21, 22, 263, 28, 84, 1683, 30, 200, 22, 7451, 40, 8, 2094, 10, 65, 26, 34, 7, 1, 36, 233, 7, 70, 165, 147, 3, 952, 821, 20, 544]\n"
     ]
    }
   ],
   "source": [
    "print(x_train[0])\n",
    "print(\"\\n\")\n",
    "### The text gets converted to a list of integers\n",
    "print(x_train_seq[0])"
   ]
  },
  {
   "cell_type": "code",
   "execution_count": 242,
   "metadata": {},
   "outputs": [],
   "source": [
    "# padding\n",
    "from keras.preprocessing.sequence import pad_sequences\n",
    "\n",
    "max_length = 800\n",
    "x_train_seq_padded = pad_sequences(x_train_seq, maxlen=max_length)"
   ]
  },
  {
   "cell_type": "code",
   "execution_count": 243,
   "metadata": {},
   "outputs": [],
   "source": [
    "test_pdf = test_df.toPandas()\n",
    "x_test = test_pdf[\"Comment\"].values\n",
    "y_test = test_pdf[\"sentiment\"].values\n",
    "x_test_seq = tokenizer.texts_to_sequences(x_test)\n",
    "x_test_seq_padded = pad_sequences(x_test_seq, maxlen=max_length)"
   ]
  },
  {
   "cell_type": "code",
   "execution_count": 244,
   "metadata": {},
   "outputs": [],
   "source": [
    "# LSTM"
   ]
  },
  {
   "cell_type": "code",
   "execution_count": 245,
   "metadata": {},
   "outputs": [
    {
     "name": "stdout",
     "output_type": "stream",
     "text": [
      "Model: \"model_3\"\n",
      "_________________________________________________________________\n",
      " Layer (type)                Output Shape              Param #   \n",
      "=================================================================\n",
      " input_4 (InputLayer)        [(None, None)]            0         \n",
      "                                                                 \n",
      " embedding_3 (Embedding)     (None, None, 128)         1280000   \n",
      "                                                                 \n",
      " bidirectional_6 (Bidirectio  (None, None, 128)        98816     \n",
      " nal)                                                            \n",
      "                                                                 \n",
      " bidirectional_7 (Bidirectio  (None, 128)              98816     \n",
      " nal)                                                            \n",
      "                                                                 \n",
      " dense_3 (Dense)             (None, 1)                 129       \n",
      "                                                                 \n",
      "=================================================================\n",
      "Total params: 1,477,761\n",
      "Trainable params: 1,477,761\n",
      "Non-trainable params: 0\n",
      "_________________________________________________________________\n"
     ]
    }
   ],
   "source": [
    "from tensorflow import keras\n",
    "from tensorflow.keras import layers\n",
    "\n",
    "embedding_dim = 128\n",
    "lstm_out = 64\n",
    "\n",
    "### Input for variable-length sequences of integers\n",
    "inputs = keras.Input(shape=(None,), dtype=\"int32\")\n",
    "\n",
    "### Embed each integer (i.e. each word) in a 128-dimensional word vectors\n",
    "x = layers.Embedding(vocab_size, embedding_dim)(inputs)\n",
    "\n",
    "### Add 2 bidirectional LSTMs\n",
    "x = layers.Bidirectional(layers.LSTM(lstm_out, return_sequences=True))(x)\n",
    "x = layers.Bidirectional(layers.LSTM(lstm_out))(x)\n",
    "\n",
    "### Add a classifier\n",
    "outputs = layers.Dense(1, activation=\"sigmoid\")(x)\n",
    "model = keras.Model(inputs, outputs)\n",
    "model.summary()"
   ]
  },
  {
   "cell_type": "code",
   "execution_count": 246,
   "metadata": {},
   "outputs": [],
   "source": [
    "# Train LSTM and log using MLFlow"
   ]
  },
  {
   "cell_type": "code",
   "execution_count": 247,
   "metadata": {},
   "outputs": [
    {
     "name": "stderr",
     "output_type": "stream",
     "text": [
      "2021/12/02 21:58:25 WARNING mlflow.utils.autologging_utils: You are using an unsupported version of tensorflow. If you encounter errors during autologging, try upgrading / downgrading tensorflow to a supported version, or try upgrading MLflow.\n"
     ]
    },
    {
     "name": "stdout",
     "output_type": "stream",
     "text": [
      "676/676 [==============================] - 342s 499ms/step - loss: 0.1965 - auc: 0.9158 - val_loss: 0.4305 - val_auc: 0.8569\n"
     ]
    },
    {
     "name": "stderr",
     "output_type": "stream",
     "text": [
      "WARNING:absl:Found untraced functions such as lstm_cell_19_layer_call_fn, lstm_cell_19_layer_call_and_return_conditional_losses, lstm_cell_20_layer_call_fn, lstm_cell_20_layer_call_and_return_conditional_losses, lstm_cell_22_layer_call_fn while saving (showing 5 of 20). These functions will not be directly callable after loading.\n"
     ]
    },
    {
     "name": "stdout",
     "output_type": "stream",
     "text": [
      "INFO:tensorflow:Assets written to: /var/folders/mg/yyqrx45x1m3cw912qvth8mp00000gn/T/tmp3tvuic64/model/data/model/assets\n"
     ]
    },
    {
     "name": "stderr",
     "output_type": "stream",
     "text": [
      "INFO:tensorflow:Assets written to: /var/folders/mg/yyqrx45x1m3cw912qvth8mp00000gn/T/tmp3tvuic64/model/data/model/assets\n",
      "WARNING:absl:<keras.layers.recurrent.LSTMCell object at 0x7f956fa8fcd0> has the same name 'LSTMCell' as a built-in Keras object. Consider renaming <class 'keras.layers.recurrent.LSTMCell'> to avoid naming conflicts when loading with `tf.keras.models.load_model`. If renaming is not possible, pass the object in the `custom_objects` parameter of the load function.\n",
      "WARNING:absl:<keras.layers.recurrent.LSTMCell object at 0x7f958c387130> has the same name 'LSTMCell' as a built-in Keras object. Consider renaming <class 'keras.layers.recurrent.LSTMCell'> to avoid naming conflicts when loading with `tf.keras.models.load_model`. If renaming is not possible, pass the object in the `custom_objects` parameter of the load function.\n",
      "WARNING:absl:<keras.layers.recurrent.LSTMCell object at 0x7f9571d8b370> has the same name 'LSTMCell' as a built-in Keras object. Consider renaming <class 'keras.layers.recurrent.LSTMCell'> to avoid naming conflicts when loading with `tf.keras.models.load_model`. If renaming is not possible, pass the object in the `custom_objects` parameter of the load function.\n",
      "WARNING:absl:<keras.layers.recurrent.LSTMCell object at 0x7f9571d624f0> has the same name 'LSTMCell' as a built-in Keras object. Consider renaming <class 'keras.layers.recurrent.LSTMCell'> to avoid naming conflicts when loading with `tf.keras.models.load_model`. If renaming is not possible, pass the object in the `custom_objects` parameter of the load function.\n"
     ]
    }
   ],
   "source": [
    "mlflow.tensorflow.autolog()\n",
    "\n",
    "with mlflow.start_run() as run:\n",
    "  \n",
    "  model.compile(optimizer=keras.optimizers.Adam(lr=1e-3), \n",
    "                loss=\"binary_crossentropy\", \n",
    "                metrics=[\"AUC\"])\n",
    "  \n",
    "  model.fit(x_train_seq_padded, \n",
    "            y_train, \n",
    "            batch_size=32, \n",
    "            epochs=1, \n",
    "            validation_split=0.1)"
   ]
  },
  {
   "cell_type": "code",
   "execution_count": 248,
   "metadata": {},
   "outputs": [
    {
     "name": "stdout",
     "output_type": "stream",
     "text": [
      "Test loss is 0.12807969748973846. Test AUC is 0.9631156325340271\n"
     ]
    }
   ],
   "source": [
    "# Evaluate on test_data\n",
    "test_loss, test_auc = model.evaluate(x_test_seq_padded, y_test, verbose=False)\n",
    "print(f\"Test loss is {test_loss}. Test AUC is {test_auc}\")"
   ]
  },
  {
   "cell_type": "code",
   "execution_count": 249,
   "metadata": {},
   "outputs": [],
   "source": [
    "logged_model = f\"runs:/{run.info.run_id}/model\"\n",
    "\n",
    "### Load model as a Spark UDF\n",
    "loaded_model = mlflow.pyfunc.spark_udf(spark, model_uri=logged_model)"
   ]
  },
  {
   "cell_type": "code",
   "execution_count": 250,
   "metadata": {},
   "outputs": [],
   "source": [
    "df = spark.createDataFrame(pd.concat([pd.DataFrame(data=y_test, columns=[\"label\"]), \n",
    "                                      pd.DataFrame(x_test_seq_padded), \n",
    "                                      pd.DataFrame(data=x_test, columns=[\"text\"])], axis=1))\n",
    "pred_df = (df\n",
    "           .withColumn(\"predictions\", loaded_model(*df.drop(\"text\", \"label\").columns))\n",
    "           .select(\"text\", \"label\", \"predictions\")\n",
    "           .withColumn(\"predicted_label\", when(col(\"predictions\") > 0.5, 1).otherwise(0)))"
   ]
  },
  {
   "cell_type": "code",
   "execution_count": 251,
   "metadata": {},
   "outputs": [
    {
     "name": "stdout",
     "output_type": "stream",
     "text": [
      "-RECORD 0--------------------------------------------------------------------------------------------------------------------------------------------------------------------------------------------------------------------------------------------------------------------------------------------------------------------------------------------------------------------------------------------------------------------------------------------------------------------------------------------------------------------------------------------------------------------------------------------------------------------------------------------------------------------------------------------------------------------------------------------------------------------------------------------------------------------------------------------------------------------------------------------------------------------------------------------------------------------------------------------------------------------------------------------------------------------------------------------------------------------------------------\n",
      " text            | !!!GTA V has evolved in a good way since the first release on the 360 and ps3, then the ps4 and Xone!!! Today it has been realsed for the PC and it is the best version of all. Running this games on 60fps and 1080p has its benefits. The water, the sun, buildings and all the AI surrounding player crafts a beautiful game. The player will be constantly playing this game and adding 100s of!!!GTA V has evolved in a good way since the first release on the 360 and ps3, then the ps4 and Xone!!! Today it has been realsed for the PC and it is the best version of all. Running this games on 60fps and 1080p has its benefits. The water, the sun, buildings and all the AI surrounding player crafts a beautiful game. The player will be constantly playing this game and adding 100s of hours to it each year. I you are looking for the best GTA experiance or GTA V experiance, go with the PC version of GTA V. The requirments are not as high like other AAA games such as Unity, Hardline, or FC4. I promise this will be one of the best gaming experiances of your life. Buy a copy today on Steam!! \n",
      " label           | 1                                                                                                                                                                                                                                                                                                                                                                                                                                                                                                                                                                                                                                                                                                                                                                                                                                                                                                                                                                                                                                                                                                                           \n",
      " predictions     | 0.9940958619117737                                                                                                                                                                                                                                                                                                                                                                                                                                                                                                                                                                                                                                                                                                                                                                                                                                                                                                                                                                                                                                                                                                          \n",
      " predicted_label | 1                                                                                                                                                                                                                                                                                                                                                                                                                                                                                                                                                                                                                                                                                                                                                                                                                                                                                                                                                                                                                                                                                                                           \n",
      "-RECORD 1--------------------------------------------------------------------------------------------------------------------------------------------------------------------------------------------------------------------------------------------------------------------------------------------------------------------------------------------------------------------------------------------------------------------------------------------------------------------------------------------------------------------------------------------------------------------------------------------------------------------------------------------------------------------------------------------------------------------------------------------------------------------------------------------------------------------------------------------------------------------------------------------------------------------------------------------------------------------------------------------------------------------------------------------------------------------------------------------------------------------------------------\n",
      " text            | \"Grand Theft Auto V\" may not be the best game of our generation but it's truly an amazing one, thanks to its addictive gameplay and richly written characters. Full review soon.                                                                                                                                                                                                                                                                                                                                                                                                                                                                                                                                                                                                                                                                                                                                                                                                                                                                                                                                            \n",
      " label           | 1                                                                                                                                                                                                                                                                                                                                                                                                                                                                                                                                                                                                                                                                                                                                                                                                                                                                                                                                                                                                                                                                                                                           \n",
      " predictions     | 0.9959710836410522                                                                                                                                                                                                                                                                                                                                                                                                                                                                                                                                                                                                                                                                                                                                                                                                                                                                                                                                                                                                                                                                                                          \n",
      " predicted_label | 1                                                                                                                                                                                                                                                                                                                                                                                                                                                                                                                                                                                                                                                                                                                                                                                                                                                                                                                                                                                                                                                                                                                           \n",
      "-RECORD 2--------------------------------------------------------------------------------------------------------------------------------------------------------------------------------------------------------------------------------------------------------------------------------------------------------------------------------------------------------------------------------------------------------------------------------------------------------------------------------------------------------------------------------------------------------------------------------------------------------------------------------------------------------------------------------------------------------------------------------------------------------------------------------------------------------------------------------------------------------------------------------------------------------------------------------------------------------------------------------------------------------------------------------------------------------------------------------------------------------------------------------------\n",
      " text            | \"Grand Theft Auto V\" may not be the best game of our generation but it's truly an amazing one, thanks to its addictive gameplay and richly written characters. Full review soon.                                                                                                                                                                                                                                                                                                                                                                                                                                                                                                                                                                                                                                                                                                                                                                                                                                                                                                                                            \n",
      " label           | 1                                                                                                                                                                                                                                                                                                                                                                                                                                                                                                                                                                                                                                                                                                                                                                                                                                                                                                                                                                                                                                                                                                                           \n",
      " predictions     | 0.9959710836410522                                                                                                                                                                                                                                                                                                                                                                                                                                                                                                                                                                                                                                                                                                                                                                                                                                                                                                                                                                                                                                                                                                          \n",
      " predicted_label | 1                                                                                                                                                                                                                                                                                                                                                                                                                                                                                                                                                                                                                                                                                                                                                                                                                                                                                                                                                                                                                                                                                                                           \n",
      "only showing top 3 rows\n",
      "\n"
     ]
    }
   ],
   "source": [
    "pred_df.show(n=3, truncate=False, vertical=True)"
   ]
  },
  {
   "cell_type": "code",
   "execution_count": 252,
   "metadata": {},
   "outputs": [],
   "source": [
    "pred_df.write.csv(\"/Users/stephanie/Documents/Csc_696_High-Performance_Computing/FinalProject/data/preddf.csv\", mode = \"overwrite\")"
   ]
  }
 ],
 "metadata": {
  "kernelspec": {
   "display_name": "Python 3",
   "language": "python",
   "name": "python3"
  },
  "language_info": {
   "codemirror_mode": {
    "name": "ipython",
    "version": 3
   },
   "file_extension": ".py",
   "mimetype": "text/x-python",
   "name": "python",
   "nbconvert_exporter": "python",
   "pygments_lexer": "ipython3",
   "version": "3.8.5"
  }
 },
 "nbformat": 4,
 "nbformat_minor": 5
}
